{
 "cells": [
  {
   "cell_type": "code",
   "execution_count": 13,
   "metadata": {},
   "outputs": [],
   "source": [
    "from urllib.request import urlopen\n",
    "from bs4 import BeautifulSoup\n",
    "#import requests"
   ]
  },
  {
   "cell_type": "code",
   "execution_count": 16,
   "metadata": {},
   "outputs": [],
   "source": [
    "html = urlopen(\"https://stock.wearn.com/cdata.asp?kind=0056\")\n",
    "bsObj = BeautifulSoup(html.read(), \"lxml\")"
   ]
  },
  {
   "cell_type": "code",
   "execution_count": 52,
   "metadata": {},
   "outputs": [],
   "source": [
    "bsObj.findAll(\"\", {\"class\" : {\"stockalllistbg1\", \"stockalllistbg2\"}})\n",
    "data = bsObj.findAll(\"\", {\"class\" : {\"stockalllistbg1\", \"stockalllistbg2\"}})"
   ]
  },
  {
   "cell_type": "code",
   "execution_count": 117,
   "metadata": {},
   "outputs": [
    {
     "name": "stdout",
     "output_type": "stream",
     "text": [
      "\n",
      "\n",
      "106/12/26\n",
      "\n",
      "\n",
      "24.94   \n",
      "\n",
      "\n",
      "24.94   \n",
      "\n",
      "\n",
      "24.78   \n",
      "\n",
      "\n",
      "24.89   \n",
      "\n",
      "\n",
      "858   \n",
      "\n",
      "\n"
     ]
    }
   ],
   "source": [
    "for i in data[0].children:\n",
    "    print(i.string)\n",
    "#data[0].get_text()"
   ]
  },
  {
   "cell_type": "code",
   "execution_count": null,
   "metadata": {
    "collapsed": true
   },
   "outputs": [],
   "source": []
  }
 ],
 "metadata": {
  "kernelspec": {
   "display_name": "Python 3",
   "language": "python",
   "name": "python3"
  },
  "language_info": {
   "codemirror_mode": {
    "name": "ipython",
    "version": 3
   },
   "file_extension": ".py",
   "mimetype": "text/x-python",
   "name": "python",
   "nbconvert_exporter": "python",
   "pygments_lexer": "ipython3",
   "version": "3.6.1"
  }
 },
 "nbformat": 4,
 "nbformat_minor": 2
}
