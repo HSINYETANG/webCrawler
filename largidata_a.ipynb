{
 "cells": [
  {
   "cell_type": "markdown",
   "metadata": {},
   "source": [
    "### 高鐵時刻表爬蟲 - POST"
   ]
  },
  {
   "cell_type": "code",
   "execution_count": null,
   "metadata": {
    "collapsed": true
   },
   "outputs": [],
   "source": [
    "import requests\n",
    "from bs4 import BeautifulSoup\n",
    "payload = {\n",
    "    'StartStation': 'fbd828d8-b1da-4b06-a3bd-680cdca4d2cd',\n",
    "    'EndStation': '5f4c7bb0-c676-4e39-8d3c-f12fc188ee5f',\n",
    "    'SearchDate': '2018/04/19',\n",
    "    'SearchTime': '09:30',\n",
    "    'SearchWay': 'DepartureInMandarin'\n",
    "}\n",
    "res = requests.post(\"https://www.thsrc.com.tw/tw/TimeTable/SearchResult\", data=payload)\n",
    "soup = BeautifulSoup(res.text, 'lxml')"
   ]
  },
  {
   "cell_type": "code",
   "execution_count": null,
   "metadata": {},
   "outputs": [],
   "source": [
    "timeschedule = []\n",
    "for i in range(0, len (soup.findAll(\"td\", {\"class\", \"column1\"}))):\n",
    "    row = []\n",
    "    row.append(soup.findAll(\"td\", {\"class\", \"column1\"})[i].get_text())\n",
    "    row.append(soup.findAll(\"td\", {\"class\", \"column3\"})[i].get_text())\n",
    "    row.append(soup.findAll(\"td\", {\"class\", \"column4\"})[i].get_text())\n",
    "    row.append(soup.findAll(\"td\", {\"class\", \"column2\"})[i].get_text())\n",
    "    timeschedule.append(row)\n",
    "timeschedule"
   ]
  },
  {
   "cell_type": "code",
   "execution_count": null,
   "metadata": {
    "collapsed": true
   },
   "outputs": [],
   "source": []
  },
  {
   "cell_type": "markdown",
   "metadata": {},
   "source": [
    "### 聚財網-個股爬蟲"
   ]
  },
  {
   "cell_type": "code",
   "execution_count": null,
   "metadata": {
    "collapsed": true
   },
   "outputs": [],
   "source": [
    "import requests\n",
    "from bs4 import BeautifulSoup\n",
    "import pandas as pd\n",
    "stockid = ['1101', '1102']\n",
    "res = requests.get(\"https://stock.wearn.com/cdata.asp?kind=\"+str(stockid[1]))\n",
    "content = res.text\n",
    "soup = BeautifulSoup(content, 'lxml') \n",
    "# print(res.text)\n",
    "# soup"
   ]
  },
  {
   "cell_type": "code",
   "execution_count": null,
   "metadata": {
    "collapsed": true
   },
   "outputs": [],
   "source": [
    "current = []\n",
    "for i in soup.findAll(\"tr\", {\"class\": \"stockalllistbg1\"}):\n",
    "    row = []\n",
    "    for j in i.findAll(\"td\"):\n",
    "        row.append(j.get_text())\n",
    "    current.append(row)\n",
    "for i in soup.findAll(\"tr\", {\"class\": \"stockalllistbg2\"}):\n",
    "    row = []\n",
    "    for j in i.findAll(\"td\"):\n",
    "        row.append(j.get_text())\n",
    "    current.append(row)"
   ]
  },
  {
   "cell_type": "code",
   "execution_count": null,
   "metadata": {
    "scrolled": true
   },
   "outputs": [],
   "source": [
    "current.sort(key=lambda row: row[0])\n",
    "pd.DataFrame(current)"
   ]
  }
 ],
 "metadata": {
  "kernelspec": {
   "display_name": "Python 3",
   "language": "python",
   "name": "python3"
  },
  "language_info": {
   "codemirror_mode": {
    "name": "ipython",
    "version": 3
   },
   "file_extension": ".py",
   "mimetype": "text/x-python",
   "name": "python",
   "nbconvert_exporter": "python",
   "pygments_lexer": "ipython3",
   "version": "3.6.3"
  }
 },
 "nbformat": 4,
 "nbformat_minor": 2
}
