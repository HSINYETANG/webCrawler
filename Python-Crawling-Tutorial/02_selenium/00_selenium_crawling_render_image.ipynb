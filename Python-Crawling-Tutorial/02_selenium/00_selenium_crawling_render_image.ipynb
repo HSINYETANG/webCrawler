{
 "cells": [
  {
   "cell_type": "markdown",
   "metadata": {},
   "source": [
    "# 練習\n",
    "\n",
    "- 觀察 https://afuntw.github.io/Test-Crawling-Website/pages/gallery/index.html 並撰寫爬蟲程式\n",
    "- 判斷是否為 JavaScript rendered website\n",
    "- 下載網頁影片\n",
    "- 設定 Implicit Wait\n",
    "- 透過 XPath 定位圖片\n",
    "\n",
    "**透過靜態網站爬蟲會看到的圖片是**\n",
    "\n",
    "<img src=\"https://i.imgur.com/0s6Iiu3.png\" height=\"184\" width=\"337\" style=\"display: inline-block;\">\n",
    "\n",
    "**透過動態網站爬蟲會看到的圖片是**\n",
    "\n",
    "<img src=\"https://i.imgur.com/db3tGBG.png\" height=\"320\" width=\"320\" style=\"display: inline-block;\">"
   ]
  },
  {
   "cell_type": "code",
   "execution_count": 1,
   "metadata": {
    "collapsed": true
   },
   "outputs": [],
   "source": [
    "import os\n",
    "import requests\n",
    "import re\n",
    "\n",
    "from bs4 import BeautifulSoup\n",
    "from selenium import webdriver\n",
    "from selenium.webdriver.common.by import By\n",
    "from fake_useragent import UserAgent\n",
    "from pprint import pprint\n",
    "\n",
    "url = 'https://afuntw.github.io/Test-Crawling-Website/pages/gallery/index.html'\n",
    "fu = UserAgent()"
   ]
  },
  {
   "cell_type": "markdown",
   "metadata": {},
   "source": [
    "# 使用 requests 做靜態爬蟲"
   ]
  },
  {
   "cell_type": "code",
   "execution_count": 2,
   "metadata": {},
   "outputs": [
    {
     "name": "stdout",
     "output_type": "stream",
     "text": [
      "['https://i.imgur.com/0s6Iiu3.png']\n"
     ]
    }
   ],
   "source": [
    "resp = requests.get(url)\n",
    "soup = BeautifulSoup(resp.text, 'lxml')\n",
    "imgs = soup.find_all('img', class_=re.compile('.*img-change'))\n",
    "imgs = [i['src'] for i in imgs]\n",
    "imgs = list(set(imgs))\n",
    "pprint(imgs)"
   ]
  },
  {
   "cell_type": "markdown",
   "metadata": {},
   "source": [
    "# 使用 Selenium 做動態爬蟲"
   ]
  },
  {
   "cell_type": "code",
   "execution_count": 3,
   "metadata": {},
   "outputs": [
    {
     "name": "stdout",
     "output_type": "stream",
     "text": [
      "['https://i.imgur.com/db3tGBG.png']\n",
      "catch - db3tGBG.png\n",
      "save - /home/dirl/github/Python-Crawling-Tutorial/results/db3tGBG.png\n"
     ]
    }
   ],
   "source": [
    "driver = webdriver.Chrome()\n",
    "results = os.path.abspath('../results')\n",
    "if not os.path.exists(results):\n",
    "    os.makedirs(results)\n",
    "\n",
    "try:\n",
    "    # webdriver setting\n",
    "    driver.get(url)\n",
    "    driver.maximize_window()\n",
    "    driver.implicitly_wait(10)\n",
    "    \n",
    "    # xpath\n",
    "    imgs = driver.find_elements(By.XPATH, '/html/body/div/div/div/a/img')\n",
    "    imgs = [i.get_attribute('src') for i in imgs]\n",
    "    imgs = list(set(imgs))\n",
    "    print(imgs)\n",
    "    \n",
    "    # download\n",
    "    for img in imgs:\n",
    "        headers = {'User-Agent': fu.random}\n",
    "        img_resp = requests.get(img, stream=True, headers=headers)\n",
    "        \n",
    "        filename = os.path.basename(img)\n",
    "        print('catch - {}'.format(filename))\n",
    "        filename = os.path.join(results, filename)\n",
    "        \n",
    "        with open(filename, 'wb') as f:\n",
    "            for chunk in img_resp.iter_content(2048):\n",
    "                f.write(chunk)\n",
    "            print('save - {}'.format(filename))\n",
    "    \n",
    "except Exception as e:\n",
    "    print(e)\n",
    "finally:\n",
    "    driver.quit()"
   ]
  }
 ],
 "metadata": {
  "kernelspec": {
   "display_name": "Python 3",
   "language": "python",
   "name": "python3"
  },
  "language_info": {
   "codemirror_mode": {
    "name": "ipython",
    "version": 3
   },
   "file_extension": ".py",
   "mimetype": "text/x-python",
   "name": "python",
   "nbconvert_exporter": "python",
   "pygments_lexer": "ipython3",
   "version": "3.5.2"
  }
 },
 "nbformat": 4,
 "nbformat_minor": 2
}
