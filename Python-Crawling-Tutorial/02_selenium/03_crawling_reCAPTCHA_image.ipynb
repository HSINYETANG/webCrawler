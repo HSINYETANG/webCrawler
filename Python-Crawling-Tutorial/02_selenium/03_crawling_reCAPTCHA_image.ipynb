{
 "cells": [
  {
   "cell_type": "markdown",
   "metadata": {},
   "source": [
    "# 練習\n",
    "\n",
    "- https://www.google.com/recaptcha/demo/recaptcha\n",
    "- 透過 google reCAPTCHA demo 生成圖片\n",
    "- 將 reCAPTCHA 的圖片抓下來"
   ]
  },
  {
   "cell_type": "code",
   "execution_count": 1,
   "metadata": {
    "collapsed": true
   },
   "outputs": [],
   "source": [
    "import os\n",
    "import hashlib\n",
    "import requests\n",
    "import time\n",
    "\n",
    "from selenium import webdriver\n",
    "from selenium.webdriver.common.keys import Keys\n",
    "from selenium.webdriver.common.by import By\n",
    "\n",
    "from fake_useragent import UserAgent\n",
    "from PIL import Image\n",
    "\n",
    "url = 'https://www.google.com/recaptcha/demo/recaptcha'\n",
    "fu = UserAgent()"
   ]
  },
  {
   "cell_type": "code",
   "execution_count": 2,
   "metadata": {},
   "outputs": [
    {
     "name": "stdout",
     "output_type": "stream",
     "text": [
      "Save img - /home/dirl/github/Python-Crawling-Tutorial/results/ceecac6a5a9677750a69c80a87f26080.JPEG\n",
      "Save img - /home/dirl/github/Python-Crawling-Tutorial/results/ceecac6a5a9677750a69c80a87f26080.JPEG\n",
      "Save img - /home/dirl/github/Python-Crawling-Tutorial/results/4cce70c2cdde67af52e27920693da213.JPEG\n",
      "Save img - /home/dirl/github/Python-Crawling-Tutorial/results/1682c3490f1ec9df1da4a43407f890b7.JPEG\n",
      "Save img - /home/dirl/github/Python-Crawling-Tutorial/results/aa6a4d1bfa181fc53636a341562fb2ea.PNG\n"
     ]
    }
   ],
   "source": [
    "results = os.path.abspath('../results')\n",
    "if not os.path.exists(results):\n",
    "    os.makedirs(results)\n",
    "\n",
    "try:\n",
    "    driver = webdriver.Chrome()\n",
    "    driver.get(url)\n",
    "    driver.maximize_window()\n",
    "    driver.implicitly_wait(10)\n",
    "    compare_url = ''\n",
    "    \n",
    "    for i in range(5):\n",
    "        # get image\n",
    "        img_el = driver.find_element(By.XPATH, '//div[@id=\"recaptcha_image\"]/img')\n",
    "        img_url = img_el.get_attribute('src')\n",
    "        img_filename = hashlib.md5(img_url.encode('utf-8')).hexdigest()\n",
    "        compare_url = img_url\n",
    "\n",
    "        headers = {'User-Agent': fu.random}\n",
    "        img_resp = requests.get(img_url, stream=True, headers=headers)\n",
    "        img = Image.open(img_resp.raw)\n",
    "        img_filename = '{}.{}'.format(img_filename, img.format)\n",
    "        img_filename = os.path.join(results, img_filename)\n",
    "        img.save(img_filename)\n",
    "        print('Save img - {}'.format(img_filename))\n",
    "        \n",
    "        # re-generate image\n",
    "        btn_refresh = driver.find_element(By.XPATH, '//*[@id=\"recaptcha_reload_btn\"]').click()\n",
    "        time.sleep(2)\n",
    "        \n",
    "\n",
    "except Exception as e:\n",
    "    print(e)\n",
    "finally:\n",
    "    driver.quit()"
   ]
  }
 ],
 "metadata": {
  "kernelspec": {
   "display_name": "Python 3",
   "language": "python",
   "name": "python3"
  },
  "language_info": {
   "codemirror_mode": {
    "name": "ipython",
    "version": 3
   },
   "file_extension": ".py",
   "mimetype": "text/x-python",
   "name": "python",
   "nbconvert_exporter": "python",
   "pygments_lexer": "ipython3",
   "version": "3.5.2"
  }
 },
 "nbformat": 4,
 "nbformat_minor": 2
}
