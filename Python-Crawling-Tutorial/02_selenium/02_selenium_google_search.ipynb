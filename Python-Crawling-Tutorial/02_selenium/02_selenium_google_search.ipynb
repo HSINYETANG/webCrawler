{
 "cells": [
  {
   "cell_type": "markdown",
   "metadata": {},
   "source": [
    "# 練習\n",
    "\n",
    "- 模擬 google search 流程\n",
    "- https://www.google.com.tw/\n",
    "- 搜尋「人工智慧」\n",
    "- 紀錄前兩頁搜尋結果的連結"
   ]
  },
  {
   "cell_type": "code",
   "execution_count": 1,
   "metadata": {
    "collapsed": true
   },
   "outputs": [],
   "source": [
    "import os\n",
    "\n",
    "from selenium import webdriver\n",
    "from selenium.webdriver.common.keys import Keys\n",
    "from selenium.webdriver.common.by import By\n",
    "from pprint import pprint\n",
    "\n",
    "url = 'https://google.com'"
   ]
  },
  {
   "cell_type": "code",
   "execution_count": 2,
   "metadata": {},
   "outputs": [
    {
     "name": "stdout",
     "output_type": "stream",
     "text": [
      "======================================================================================= Page 0\n",
      "title: 人工智能- 维基百科，自由的百科全书\n",
      "url: \n",
      "---\n",
      "title: AI 人工智慧| TechNews 科技新報\n",
      "url: \n",
      "---\n",
      "title: 台灣人工智慧學校| Taiwan AI Academy\n",
      "url: \n",
      "---\n",
      "title: 11個趨勢預測：人工智慧將會如何影響人類的職業？｜數位時代\n",
      "url: \n",
      "---\n",
      "title: 首頁 - 2017 台灣人工智慧年會－人工智慧．智慧台灣\n",
      "url: \n",
      "---\n",
      "title: 【AI流言終結者】超級人工智慧的未來，我們該擔心什麼？ - Myths and ...\n",
      "url: \n",
      "---\n",
      "title: 台灣人工智慧年會- 首頁| Facebook\n",
      "url: \n",
      "---\n",
      "title: 【2017兩千大企業調查】AI全面啟動：台灣機器人百強企業出列！－天下雜誌\n",
      "url: \n",
      "---\n",
      "title: 人工智慧(Artificial Intelligence) | Coursera\n",
      "url: \n",
      "---\n",
      "======================================================================================= Page 1\n",
      "title: 人工智慧(Artificial Intelligence) | Coursera\n",
      "url: \n",
      "---\n",
      "title: NVIDIA 深度學習和人工智慧的最新消息\n",
      "url: \n",
      "---\n",
      "title: 人工智慧產學研聯盟--首頁\n",
      "url: \n",
      "---\n",
      "title: 人工智慧學校開學了！2千萬買GPU設備養AI尖兵| 數位焦點| 數位| 聯合 ...\n",
      "url: \n",
      "---\n",
      "title: 未來「產業創新」的秘密武器：AI 人工智慧- The News Lens 關鍵評論網\n",
      "url: \n",
      "---\n",
      "title: 人工智慧| TechOrange - BuzzOrange\n",
      "url: \n",
      "---\n",
      "title: 人工智能「被駭」的結果出人意料| 人工智慧| 計算機| Google人工智慧系統 ...\n",
      "url: \n",
      "---\n",
      "title: 【神逮捕片】人工智慧打擊犯罪系統日本神奈川縣考慮引進| 蘋果日報\n",
      "url: \n",
      "---\n",
      "title: 人工智慧- MBA智库百科\n",
      "url: \n",
      "---\n",
      "title: 博客來-中文書>電腦資訊>概論/科技趨勢>人工智慧/機器學習\n",
      "url: \n",
      "---\n"
     ]
    }
   ],
   "source": [
    "try:\n",
    "    driver = webdriver.Chrome()\n",
    "    driver.get(url)\n",
    "    driver.maximize_window()\n",
    "    driver.implicitly_wait(10)\n",
    "    \n",
    "    search_input  = driver.find_element(By.ID, 'lst-ib')\n",
    "    search_input.send_keys(u'人工智慧')\n",
    "    search_input.send_keys(Keys.ENTER)\n",
    "    \n",
    "    for i in range(2):\n",
    "        print('='*87, 'Page {}'.format(i))\n",
    "\n",
    "        links = driver.find_elements(By.XPATH, '//h3[@class=\"r\"]/a[@href]')\n",
    "\n",
    "        for link in links:\n",
    "            page_title = link.text\n",
    "            page_url = ''\n",
    "\n",
    "            if link.get_attribute('href'):\n",
    "                url = link.get_attribute('href')\n",
    "\n",
    "            print('title: {}\\nurl: {}\\n---'.format(page_title, page_url))\n",
    "\n",
    "        next_page = driver.find_element(By.XPATH, '//*[@id=\"pnnext\"]/span[2]').click()\n",
    "\n",
    "except Exception as e:\n",
    "    print(e)\n",
    "finally:\n",
    "    driver.quit()"
   ]
  }
 ],
 "metadata": {
  "kernelspec": {
   "display_name": "Python 3",
   "language": "python",
   "name": "python3"
  },
  "language_info": {
   "codemirror_mode": {
    "name": "ipython",
    "version": 3
   },
   "file_extension": ".py",
   "mimetype": "text/x-python",
   "name": "python",
   "nbconvert_exporter": "python",
   "pygments_lexer": "ipython3",
   "version": "3.5.2"
  }
 },
 "nbformat": 4,
 "nbformat_minor": 2
}
