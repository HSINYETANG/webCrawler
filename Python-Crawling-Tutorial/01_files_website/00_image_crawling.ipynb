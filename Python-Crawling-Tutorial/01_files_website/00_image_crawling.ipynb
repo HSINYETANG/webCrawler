{
 "cells": [
  {
   "cell_type": "markdown",
   "metadata": {},
   "source": [
    "# 練習\n",
    "\n",
    "- 觀察 https://www.pexels.com/ 並撰寫爬蟲程式\n",
    "- 下載 5 張桌布圖"
   ]
  },
  {
   "cell_type": "code",
   "execution_count": 1,
   "metadata": {
    "collapsed": true
   },
   "outputs": [],
   "source": [
    "import requests\n",
    "import re\n",
    "import os\n",
    "\n",
    "from bs4 import BeautifulSoup\n",
    "from pprint import pprint\n",
    "\n",
    "url = 'https://www.pexels.com/'"
   ]
  },
  {
   "cell_type": "code",
   "execution_count": 2,
   "metadata": {
    "collapsed": true
   },
   "outputs": [],
   "source": [
    "resp = requests.get(url)\n",
    "soup = BeautifulSoup(resp.text, 'lxml')"
   ]
  },
  {
   "cell_type": "code",
   "execution_count": 3,
   "metadata": {},
   "outputs": [
    {
     "name": "stdout",
     "output_type": "stream",
     "text": [
      "['https://images.pexels.com/photos/106606/pexels-photo-106606.jpeg?h=350&auto=compress&cs=tinysrgb',\n",
      " 'https://images.pexels.com/photos/405041/pexels-photo-405041.jpeg?h=350&auto=compress&cs=tinysrgb',\n",
      " 'https://images.pexels.com/photos/102170/pexels-photo-102170.jpeg?h=350&auto=compress&cs=tinysrgb',\n",
      " 'https://images.pexels.com/photos/583399/pexels-photo-583399.jpeg?h=350&auto=compress&cs=tinysrgb',\n",
      " 'https://images.pexels.com/photos/398533/pexels-photo-398533.jpeg?h=350&auto=compress&cs=tinysrgb']\n"
     ]
    }
   ],
   "source": [
    "article = soup.find('div', class_='photos').find_all('article', class_='photo-item')\n",
    "imgs = [a.find('a').find('img')['src'] for a in article]\n",
    "target = imgs[:5]\n",
    "\n",
    "pprint(target)"
   ]
  },
  {
   "cell_type": "code",
   "execution_count": 4,
   "metadata": {},
   "outputs": [
    {
     "name": "stdout",
     "output_type": "stream",
     "text": [
      "regex catch the name pexels-photo-106606.jpeg\n",
      "Save the img at /home/dirl/github/Python-Crawling-Tutorial/results/pexels-photo-106606.jpeg\n",
      "regex catch the name pexels-photo-405041.jpeg\n",
      "Save the img at /home/dirl/github/Python-Crawling-Tutorial/results/pexels-photo-405041.jpeg\n",
      "regex catch the name pexels-photo-102170.jpeg\n",
      "Save the img at /home/dirl/github/Python-Crawling-Tutorial/results/pexels-photo-102170.jpeg\n",
      "regex catch the name pexels-photo-583399.jpeg\n",
      "Save the img at /home/dirl/github/Python-Crawling-Tutorial/results/pexels-photo-583399.jpeg\n",
      "regex catch the name pexels-photo-398533.jpeg\n",
      "Save the img at /home/dirl/github/Python-Crawling-Tutorial/results/pexels-photo-398533.jpeg\n"
     ]
    }
   ],
   "source": [
    "results = os.path.abspath('../results')\n",
    "\n",
    "if not os.path.exists(results):\n",
    "    os.makedirs(results)\n",
    "\n",
    "for i in target:\n",
    "    img_resp = requests.get(i, stream=True)    \n",
    "    filename = re.match(r\".*(pexels-photo-([0-9]{6})\\.jpeg).*\", i).group(1)\n",
    "    print('regex catch the name {}'.format(filename))\n",
    "    \n",
    "    filename = os.path.join(results, filename)\n",
    "\n",
    "    with open(filename, 'wb') as f:\n",
    "        for chunk in img_resp.iter_content(2048):\n",
    "            f.write(chunk)\n",
    "        print('Save the img at {}'.format(filename))"
   ]
  }
 ],
 "metadata": {
  "kernelspec": {
   "display_name": "Python 3",
   "language": "python",
   "name": "python3"
  },
  "language_info": {
   "codemirror_mode": {
    "name": "ipython",
    "version": 3
   },
   "file_extension": ".py",
   "mimetype": "text/x-python",
   "name": "python",
   "nbconvert_exporter": "python",
   "pygments_lexer": "ipython3",
   "version": "3.5.2"
  }
 },
 "nbformat": 4,
 "nbformat_minor": 2
}
