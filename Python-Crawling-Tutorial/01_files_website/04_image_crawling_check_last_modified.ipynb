{
 "cells": [
  {
   "cell_type": "markdown",
   "metadata": {},
   "source": [
    "# 練習\n",
    "\n",
    "- 觀察 https://afuntw.github.io/Test-Crawling-Website/pages/portfolio/index.html 並撰寫爬蟲程式\n",
    "- 下載 2018/01/29 14:39:10 之後修改過的圖片\n",
    "- 以正確的圖片格式存檔"
   ]
  },
  {
   "cell_type": "code",
   "execution_count": 1,
   "metadata": {
    "collapsed": true
   },
   "outputs": [],
   "source": [
    "import requests\n",
    "import os\n",
    "\n",
    "from PIL import Image\n",
    "from bs4 import BeautifulSoup\n",
    "from datetime import datetime\n",
    "from time import ctime\n",
    "from pprint import pprint\n",
    "\n",
    "url = 'https://afuntw.github.io/Test-Crawling-Website/pages/portfolio/index.html'\n",
    "last_modified = datetime(2018, 1, 29, 14, 39, 10)"
   ]
  },
  {
   "cell_type": "code",
   "execution_count": 2,
   "metadata": {
    "collapsed": true
   },
   "outputs": [],
   "source": [
    "resp = requests.get(url)\n",
    "soup = BeautifulSoup(resp.text, 'lxml')"
   ]
  },
  {
   "cell_type": "code",
   "execution_count": 3,
   "metadata": {
    "collapsed": true
   },
   "outputs": [],
   "source": [
    "imgs = soup.find_all('img')\n",
    "imgs = [i['src'] for i in imgs]"
   ]
  },
  {
   "cell_type": "code",
   "execution_count": 4,
   "metadata": {},
   "outputs": [
    {
     "name": "stdout",
     "output_type": "stream",
     "text": [
      "catch the filename IDPxvSl.jpg and the real format is PNG\n",
      "catch the real filename IDPxvSl.png\n",
      "save image at /home/dirl/github/Python-Crawling-Tutorial/results/IDPxvSl.png\n",
      "catch the filename UKxK6FZ.gif and the real format is PNG\n",
      "catch the real filename UKxK6FZ.png\n",
      "save image at /home/dirl/github/Python-Crawling-Tutorial/results/UKxK6FZ.png\n"
     ]
    }
   ],
   "source": [
    "results = os.path.abspath('../results')\n",
    "if not os.path.exists(results):\n",
    "    os.makedirs(results)\n",
    "\n",
    "for i in imgs:\n",
    "    # check header only\n",
    "    check_resp = requests.head(i)\n",
    "    check_head = dict(check_resp.headers)\n",
    "    if 'Last-Modified' in check_head:\n",
    "        check_modified = check_head['Last-Modified']\n",
    "        check_modified = datetime.strptime(check_modified, '%a, %d %b %Y %H:%M:%S GMT')\n",
    "        check_not_modified = check_modified < last_modified\n",
    "        if check_not_modified:\n",
    "            continue\n",
    "    \n",
    "    img_resp = requests.get(i, stream=True)\n",
    "    image = Image.open(img_resp.raw)\n",
    "    filename = os.path.basename(i)\n",
    "    print('catch the filename {} and the real format is {}'.format(filename, image.format))\n",
    "    \n",
    "    real_filename = '{}.{}'.format(\n",
    "        filename.split('.')[0],\n",
    "        image.format.lower()\n",
    "    )\n",
    "    save_filename = os.path.join(results, real_filename)\n",
    "    print('catch the real filename {}'.format(real_filename))\n",
    "    \n",
    "    image.save(save_filename)\n",
    "    print('save image at {}'.format(save_filename))"
   ]
  }
 ],
 "metadata": {
  "kernelspec": {
   "display_name": "Python 3",
   "language": "python",
   "name": "python3"
  },
  "language_info": {
   "codemirror_mode": {
    "name": "ipython",
    "version": 3
   },
   "file_extension": ".py",
   "mimetype": "text/x-python",
   "name": "python",
   "nbconvert_exporter": "python",
   "pygments_lexer": "ipython3",
   "version": "3.5.2"
  }
 },
 "nbformat": 4,
 "nbformat_minor": 2
}
