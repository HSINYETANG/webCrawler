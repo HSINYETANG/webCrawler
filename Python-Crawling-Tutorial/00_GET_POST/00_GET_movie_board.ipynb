{
 "cells": [
  {
   "cell_type": "markdown",
   "metadata": {},
   "source": [
    "# 練習\n",
    "\n",
    "- 觀察 http://www.taipeibo.com/yearly/ 並撰寫爬蟲程式\n",
    "- 抓取當年度週末冠軍排行榜\n",
    "- 使用 requests + BeautifulSoup 實作\n",
    "- 透過 pandas 輸出成 csv"
   ]
  },
  {
   "cell_type": "code",
   "execution_count": 1,
   "metadata": {
    "collapsed": true
   },
   "outputs": [],
   "source": [
    "import os\n",
    "import requests\n",
    "import pandas as pd\n",
    "\n",
    "from bs4 import BeautifulSoup\n",
    "\n",
    "url = 'http://www.taipeibo.com/yearly/'"
   ]
  },
  {
   "cell_type": "code",
   "execution_count": 2,
   "metadata": {
    "collapsed": true
   },
   "outputs": [],
   "source": [
    "resp = requests.get(url)\n",
    "resp.encoding = 'utf-8'\n",
    "soup = BeautifulSoup(resp.text, 'lxml')"
   ]
  },
  {
   "cell_type": "code",
   "execution_count": 3,
   "metadata": {
    "collapsed": false
   },
   "outputs": [
    {
     "data": {
      "text/html": [
       "<div>\n",
       "<table border=\"1\" class=\"dataframe\">\n",
       "  <thead>\n",
       "    <tr style=\"text-align: right;\">\n",
       "      <th></th>\n",
       "      <th>週次</th>\n",
       "      <th>日期</th>\n",
       "      <th>週末票房總和</th>\n",
       "      <th>漲跌幅</th>\n",
       "      <th>冠軍片名</th>\n",
       "      <th>英文片名</th>\n",
       "      <th>週末票房冠軍</th>\n",
       "      <th>冠軍比例*</th>\n",
       "    </tr>\n",
       "  </thead>\n",
       "  <tbody>\n",
       "    <tr>\n",
       "      <th>0</th>\n",
       "      <td>4</td>\n",
       "      <td>01/27 - 28</td>\n",
       "      <td>30,022,225</td>\n",
       "      <td>-28.6%</td>\n",
       "      <td>移動迷宮：死亡解藥</td>\n",
       "      <td>The Maze Runner: The Death Cure</td>\n",
       "      <td>7,492,613</td>\n",
       "      <td>24.96%</td>\n",
       "    </tr>\n",
       "    <tr>\n",
       "      <th>1</th>\n",
       "      <td>3</td>\n",
       "      <td>01/20 - 21</td>\n",
       "      <td>42,028,838</td>\n",
       "      <td>+24.6%</td>\n",
       "      <td>移動迷宮：死亡解藥</td>\n",
       "      <td>The Maze Runner: The Death Cure</td>\n",
       "      <td>15,483,826</td>\n",
       "      <td>36.84%</td>\n",
       "    </tr>\n",
       "    <tr>\n",
       "      <th>2</th>\n",
       "      <td>2</td>\n",
       "      <td>01/13 - 14</td>\n",
       "      <td>33,733,791</td>\n",
       "      <td>-17.8%</td>\n",
       "      <td>與神同行</td>\n",
       "      <td>Along with the Gods: The Two Worlds</td>\n",
       "      <td>13,298,668</td>\n",
       "      <td>39.42%</td>\n",
       "    </tr>\n",
       "    <tr>\n",
       "      <th>3</th>\n",
       "      <td>1</td>\n",
       "      <td>01/06 - 07</td>\n",
       "      <td>41,026,264</td>\n",
       "      <td>-29.7%</td>\n",
       "      <td>與神同行</td>\n",
       "      <td>Along with the Gods: The Two Worlds</td>\n",
       "      <td>18,739,629</td>\n",
       "      <td>45.68%</td>\n",
       "    </tr>\n",
       "  </tbody>\n",
       "</table>\n",
       "</div>"
      ],
      "text/plain": [
       "  週次          日期      週末票房總和     漲跌幅       冠軍片名  \\\n",
       "0  4  01/27 - 28  30,022,225  -28.6%  移動迷宮：死亡解藥   \n",
       "1  3  01/20 - 21  42,028,838  +24.6%  移動迷宮：死亡解藥   \n",
       "2  2  01/13 - 14  33,733,791  -17.8%       與神同行   \n",
       "3  1  01/06 - 07  41,026,264  -29.7%       與神同行   \n",
       "\n",
       "                                  英文片名      週末票房冠軍   冠軍比例*  \n",
       "0      The Maze Runner: The Death Cure   7,492,613  24.96%  \n",
       "1      The Maze Runner: The Death Cure  15,483,826  36.84%  \n",
       "2  Along with the Gods: The Two Worlds  13,298,668  39.42%  \n",
       "3  Along with the Gods: The Two Worlds  18,739,629  45.68%  "
      ]
     },
     "execution_count": 3,
     "metadata": {},
     "output_type": "execute_result"
    }
   ],
   "source": [
    "rows = soup.table.find_all('tr')\n",
    "\n",
    "colname = rows.pop(0)\n",
    "colname = list(colname.stripped_strings)\n",
    "rows = [list(row.stripped_strings) for row in rows]\n",
    "\n",
    "df = pd.DataFrame(rows, columns=colname)\n",
    "df"
   ]
  },
  {
   "cell_type": "code",
   "execution_count": 4,
   "metadata": {
    "collapsed": false
   },
   "outputs": [
    {
     "name": "stdout",
     "output_type": "stream",
     "text": [
      "Save csv to /home/afun/github/Python-Crawling-Tutorial/results/taipeibo.csv\n"
     ]
    }
   ],
   "source": [
    "results = os.path.abspath('../results')\n",
    "if not os.path.exists(results):\n",
    "    os.makedirs(results)\n",
    "\n",
    "filename = os.path.join(results, 'taipeibo.csv')\n",
    "df.to_csv(filename, index=False)\n",
    "print('Save csv to {}'.format(filename))"
   ]
  }
 ],
 "metadata": {
  "kernelspec": {
   "display_name": "Python 3",
   "language": "python",
   "name": "python3"
  },
  "language_info": {
   "codemirror_mode": {
    "name": "ipython",
    "version": 3
   },
   "file_extension": ".py",
   "mimetype": "text/x-python",
   "name": "python",
   "nbconvert_exporter": "python",
   "pygments_lexer": "ipython3",
   "version": "3.5.2"
  }
 },
 "nbformat": 4,
 "nbformat_minor": 2
}
