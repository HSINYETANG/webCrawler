{
 "cells": [
  {
   "cell_type": "markdown",
   "metadata": {},
   "source": [
    "## 範例 05 : 使用 pandas 儲存資料\n",
    "\n",
    "pandas 是 Python 中處理數據非常強大的一個函式庫，不論是讀寫 Data、清洗、轉換、分析等，均有許多方便好用的函數幫忙，熟悉 pandas 可以說是用 Python 做資料分析的第一步!\n",
    "\n",
    "範例 05 將會帶大家學習如何使用 pandas 將我們抓取的資料存成結構化的數據\n",
    "\n",
    "補充資料\n",
    "* [pandas 官方文檔](https://pandas.pydata.org/pandas-docs/stable/index.html)\n",
    "* [pandas tutourials](http://pandas.pydata.org/pandas-docs/version/0.15.2/tutorials.html)\n",
    "* [10 minutes to pandas](https://pandas.pydata.org/pandas-docs/stable/10min.html)\n",
    "* [Python for Data Analysis 電子書](http://www3.canisius.edu/~yany/python/Python4DataAnalysis.pdf)"
   ]
  },
  {
   "cell_type": "markdown",
   "metadata": {},
   "source": [
    "### 1. 使用 columns 來建立 DataFrame"
   ]
  },
  {
   "cell_type": "code",
   "execution_count": 1,
   "metadata": {
    "collapsed": true
   },
   "outputs": [],
   "source": [
    "import requests\n",
    "from bs4 import BeautifulSoup\n",
    "import pandas as pd\n",
    "import re\n",
    "\n",
    "# 將要查詢的資料寫成 dictionary\n",
    "form_data = {\n",
    " \"StartStation\":\"2f940836-cedc-41ef-8e28-c2336ac8fe68\",\n",
    " \"EndStation\":\"9c5ac6ca-ec89-48f8-aab0-41b738cb1814\",\n",
    " \"SearchDate\":\"2017/08/14\",\n",
    " \"SearchTime\":\"21:30\", \n",
    " \"SearchWay\":\"DepartureInMandarin\"}\n",
    "\n",
    "response_post = requests.post(\"https://www.thsrc.com.tw/tw/TimeTable/SearchResult\", data = form_data) # 使用 POST\n",
    "soup_post = BeautifulSoup(response_post.text, \"lxml\") # 用 BeautifulSoup 解析網頁"
   ]
  },
  {
   "cell_type": "code",
   "execution_count": 2,
   "metadata": {
    "collapsed": true
   },
   "outputs": [],
   "source": [
    "train_number = [tag.text for tag in soup_post.find_all(\"td\", class_=\"column1\")] # 找出所有 td 標籤 屬性 class=column1 的內容，並存成 List\n",
    "departure = [tag.text for tag in soup_post.find_all(\"td\", class_=\"column3\")] # 找出所有 td 標籤 屬性 class=column3 的內容，並存成 List\n",
    "arrival = [tag.text for tag in soup_post.find_all(\"td\", class_=\"column4\")] # 找出所有 td 標籤 屬性 class=column4 的內容，並存成 List\n",
    "travel_time = [tag.text for tag in soup_post.find_all(\"td\", class_=\"column2\")] # 找出所有 td 標籤 屬性 class=column2 的內容，並存成 List"
   ]
  },
  {
   "cell_type": "code",
   "execution_count": 3,
   "metadata": {
    "collapsed": true
   },
   "outputs": [],
   "source": [
    "highspeed_df = pd.DataFrame({\"車次\":train_number,\n",
    "                          \"出發時間\":departure,\n",
    "                          \"抵達時間\":arrival,\n",
    "                          \"行車時間\":travel_time}, columns = [\"車次\", \"出發時間\", \"抵達時間\", \"行車時間\"])"
   ]
  },
  {
   "cell_type": "code",
   "execution_count": 4,
   "metadata": {},
   "outputs": [
    {
     "data": {
      "text/html": [
       "<div>\n",
       "<style>\n",
       "    .dataframe thead tr:only-child th {\n",
       "        text-align: right;\n",
       "    }\n",
       "\n",
       "    .dataframe thead th {\n",
       "        text-align: left;\n",
       "    }\n",
       "\n",
       "    .dataframe tbody tr th {\n",
       "        vertical-align: top;\n",
       "    }\n",
       "</style>\n",
       "<table border=\"1\" class=\"dataframe\">\n",
       "  <thead>\n",
       "    <tr style=\"text-align: right;\">\n",
       "      <th></th>\n",
       "      <th>車次</th>\n",
       "      <th>出發時間</th>\n",
       "      <th>抵達時間</th>\n",
       "      <th>行車時間</th>\n",
       "    </tr>\n",
       "  </thead>\n",
       "  <tbody>\n",
       "    <tr>\n",
       "      <th>0</th>\n",
       "      <td>0693</td>\n",
       "      <td>21:30</td>\n",
       "      <td>23:27</td>\n",
       "      <td>01:57</td>\n",
       "    </tr>\n",
       "    <tr>\n",
       "      <th>1</th>\n",
       "      <td>0333</td>\n",
       "      <td>21:45</td>\n",
       "      <td>23:41</td>\n",
       "      <td>01:56</td>\n",
       "    </tr>\n",
       "    <tr>\n",
       "      <th>2</th>\n",
       "      <td>0295</td>\n",
       "      <td>22:05</td>\n",
       "      <td>23:47</td>\n",
       "      <td>01:42</td>\n",
       "    </tr>\n",
       "  </tbody>\n",
       "</table>\n",
       "</div>"
      ],
      "text/plain": [
       "     車次   出發時間   抵達時間   行車時間\n",
       "0  0693  21:30  23:27  01:57\n",
       "1  0333  21:45  23:41  01:56\n",
       "2  0295  22:05  23:47  01:42"
      ]
     },
     "execution_count": 4,
     "metadata": {},
     "output_type": "execute_result"
    }
   ],
   "source": [
    "highspeed_df "
   ]
  },
  {
   "cell_type": "code",
   "execution_count": 5,
   "metadata": {
    "collapsed": true
   },
   "outputs": [],
   "source": [
    "highspeed_df.to_csv(\"csv_results/demo6_highspeed_schedule_cp950.csv\", index = False, encoding = \"cp950\")"
   ]
  },
  {
   "cell_type": "markdown",
   "metadata": {},
   "source": [
    "### 2. 使用 rows 來建立 DataFrame"
   ]
  },
  {
   "cell_type": "code",
   "execution_count": 6,
   "metadata": {
    "collapsed": true
   },
   "outputs": [],
   "source": [
    "import requests\n",
    "from bs4 import BeautifulSoup\n",
    "import pandas as pd\n",
    "import re\n",
    "\n",
    "# 將要查詢的資料寫成 dictionary\n",
    "form_data = {\n",
    " \"StartStation\":\"2f940836-cedc-41ef-8e28-c2336ac8fe68\",\n",
    " \"EndStation\":\"9c5ac6ca-ec89-48f8-aab0-41b738cb1814\",\n",
    " \"SearchDate\":\"2017/08/14\",\n",
    " \"SearchTime\":\"21:30\", \n",
    " \"SearchWay\":\"DepartureInMandarin\"}\n",
    "\n",
    "response_post = requests.post(\"https://www.thsrc.com.tw/tw/TimeTable/SearchResult\", data = form_data) # 使用 POST\n",
    "soup_post = BeautifulSoup(response_post.text, \"lxml\") # 用 BeautifulSoup 解析網頁"
   ]
  },
  {
   "cell_type": "code",
   "execution_count": 7,
   "metadata": {
    "collapsed": true
   },
   "outputs": [],
   "source": [
    "highspeed_df = pd.DataFrame(columns = [\"車次\", \"出發時間\", \"抵達時間\", \"行車時間\"]) # 先建立好 DataFrame "
   ]
  },
  {
   "cell_type": "code",
   "execution_count": 8,
   "metadata": {},
   "outputs": [
    {
     "name": "stdout",
     "output_type": "stream",
     "text": [
      "0\n",
      "1\n",
      "2\n"
     ]
    }
   ],
   "source": [
    "for i in range(3):\n",
    "    print(i)\n",
    "    row = soup_post.find_all(\"table\", class_=\"touch_table\")[i] # table 這個標籤包含所有行車資訊，我們用 index 一個一個 by row 取出來\n",
    "    row_contents = [tag.text for tag in row.find_all(\"td\", class_= re.compile(\"column\"))] # 一個 row 有包含其他資訊，我們只要選出 class 包含 column 的 內容\n",
    "    highspeed_df.loc[i] = row_contents # DataFrame 中， 第 i 行的值等於 row_text"
   ]
  },
  {
   "cell_type": "code",
   "execution_count": 9,
   "metadata": {},
   "outputs": [
    {
     "data": {
      "text/html": [
       "<div>\n",
       "<style>\n",
       "    .dataframe thead tr:only-child th {\n",
       "        text-align: right;\n",
       "    }\n",
       "\n",
       "    .dataframe thead th {\n",
       "        text-align: left;\n",
       "    }\n",
       "\n",
       "    .dataframe tbody tr th {\n",
       "        vertical-align: top;\n",
       "    }\n",
       "</style>\n",
       "<table border=\"1\" class=\"dataframe\">\n",
       "  <thead>\n",
       "    <tr style=\"text-align: right;\">\n",
       "      <th></th>\n",
       "      <th>車次</th>\n",
       "      <th>出發時間</th>\n",
       "      <th>抵達時間</th>\n",
       "      <th>行車時間</th>\n",
       "    </tr>\n",
       "  </thead>\n",
       "  <tbody>\n",
       "    <tr>\n",
       "      <th>0</th>\n",
       "      <td>0693</td>\n",
       "      <td>21:30</td>\n",
       "      <td>23:27</td>\n",
       "      <td>01:57</td>\n",
       "    </tr>\n",
       "    <tr>\n",
       "      <th>1</th>\n",
       "      <td>0333</td>\n",
       "      <td>21:45</td>\n",
       "      <td>23:41</td>\n",
       "      <td>01:56</td>\n",
       "    </tr>\n",
       "    <tr>\n",
       "      <th>2</th>\n",
       "      <td>0295</td>\n",
       "      <td>22:05</td>\n",
       "      <td>23:47</td>\n",
       "      <td>01:42</td>\n",
       "    </tr>\n",
       "  </tbody>\n",
       "</table>\n",
       "</div>"
      ],
      "text/plain": [
       "     車次   出發時間   抵達時間   行車時間\n",
       "0  0693  21:30  23:27  01:57\n",
       "1  0333  21:45  23:41  01:56\n",
       "2  0295  22:05  23:47  01:42"
      ]
     },
     "execution_count": 9,
     "metadata": {},
     "output_type": "execute_result"
    }
   ],
   "source": [
    "highspeed_df "
   ]
  },
  {
   "cell_type": "code",
   "execution_count": 10,
   "metadata": {
    "collapsed": true
   },
   "outputs": [],
   "source": [
    "# for windows\n",
    "highspeed_df.to_csv(\"csv_results/demo6_highspeed_schedule_cp950.csv\", index = False, encoding = \"cp950\")\n",
    "\n",
    "# for linux\n",
    "highspeed_df.to_csv(\"csv_results/demo6_highspeed_schedule_utf8.csv\", index = False, encoding = \"utf-8\")"
   ]
  },
  {
   "cell_type": "markdown",
   "metadata": {},
   "source": [
    "## 練習 05 : 使用 pandas 將抓下來的資訊儲存成表格\n",
    "\n",
    "請觀察[518 黃頁網](http://yp.518.com.tw/service-life.html?ctf=10)，並將店名、地址及電話三個欄位抓下來，並存成表格如 PPT 所示\n",
    "* 觀察店名、地址及電話都藏在哪些標籤底下? 有共用的屬性嗎?\n",
    "* 選擇要用 Rows 或 Columns 來組成 DataFrame\n",
    "* 請將檔案儲存在 csv_results 這個資料夾"
   ]
  },
  {
   "cell_type": "code",
   "execution_count": 11,
   "metadata": {
    "collapsed": true
   },
   "outputs": [],
   "source": [
    "# your codes\n",
    "## 518 網頁伺服器無法容納多人同時 requests，請大家使用以下的網頁作 requests，其 html 的內容是一模一樣的\n",
    "response = requests.get(\"https://jimmy15923.github.io/518\")"
   ]
  }
 ],
 "metadata": {
  "anaconda-cloud": {},
  "kernelspec": {
   "display_name": "Python 3",
   "language": "python",
   "name": "python3"
  },
  "language_info": {
   "codemirror_mode": {
    "name": "ipython",
    "version": 3
   },
   "file_extension": ".py",
   "mimetype": "text/x-python",
   "name": "python",
   "nbconvert_exporter": "python",
   "pygments_lexer": "ipython3",
   "version": "3.6.1"
  }
 },
 "nbformat": 4,
 "nbformat_minor": 1
}
