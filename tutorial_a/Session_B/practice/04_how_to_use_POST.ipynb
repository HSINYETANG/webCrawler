{
 "cells": [
  {
   "cell_type": "markdown",
   "metadata": {
    "collapsed": true
   },
   "source": [
    "## 範例 04: 如何使用 POST\n",
    "\n",
    "請打開[高鐵時刻表](https://www.thsrc.com.tw/tw/TimeTable/SearchResult)的網頁，並按照簡報上介紹的方法，觀察 requests 的方式"
   ]
  },
  {
   "cell_type": "code",
   "execution_count": 1,
   "metadata": {},
   "outputs": [
    {
     "name": "stdout",
     "output_type": "stream",
     "text": [
      "utf-8\n"
     ]
    }
   ],
   "source": [
    "import requests\n",
    "from bs4 import BeautifulSoup\n",
    "import re\n",
    "\n",
    "# 這是我們還沒有給任何 form_data 的 requests\n",
    "response = requests.get(\"https://www.thsrc.com.tw/tw/TimeTable/SearchResult\")\n",
    "print(response.encoding)\n",
    "soup = BeautifulSoup(response.text, \"lxml\")"
   ]
  },
  {
   "cell_type": "code",
   "execution_count": 2,
   "metadata": {},
   "outputs": [
    {
     "data": {
      "text/plain": [
       "[<option value=\"2f940836-cedc-41ef-8e28-c2336ac8fe68\"> 南港站</option>,\n",
       " <option value=\"977abb69-413a-4ccf-a109-0272c24fd490\"> 台北站</option>,\n",
       " <option value=\"e6e26e66-7dc1-458f-b2f3-71ce65fdc95f\"> 板橋站</option>,\n",
       " <option value=\"fbd828d8-b1da-4b06-a3bd-680cdca4d2cd\"> 桃園站</option>,\n",
       " <option value=\"a7a04c89-900b-4798-95a3-c01c455622f4\"> 新竹站</option>,\n",
       " <option value=\"e8fc2123-2aaf-46ff-ad79-51d4002a1ef3\"> 苗栗站</option>,\n",
       " <option value=\"3301e395-46b8-47aa-aa37-139e15708779\"> 台中站</option>,\n",
       " <option value=\"38b8c40b-aef0-4d66-b257-da96ec51620e\"> 彰化站</option>,\n",
       " <option value=\"5f4c7bb0-c676-4e39-8d3c-f12fc188ee5f\"> 雲林站</option>,\n",
       " <option value=\"60831846-f0e4-47f6-9b5b-46323ebdcef7\"> 嘉義站</option>,\n",
       " <option value=\"9c5ac6ca-ec89-48f8-aab0-41b738cb1814\"> 台南站</option>,\n",
       " <option value=\"f2519629-5973-4d08-913b-479cce78a356\"> 左營站</option>,\n",
       " <option value=\"2f940836-cedc-41ef-8e28-c2336ac8fe68\"> 南港站</option>,\n",
       " <option value=\"977abb69-413a-4ccf-a109-0272c24fd490\"> 台北站</option>,\n",
       " <option value=\"e6e26e66-7dc1-458f-b2f3-71ce65fdc95f\"> 板橋站</option>,\n",
       " <option value=\"fbd828d8-b1da-4b06-a3bd-680cdca4d2cd\"> 桃園站</option>,\n",
       " <option value=\"a7a04c89-900b-4798-95a3-c01c455622f4\"> 新竹站</option>,\n",
       " <option value=\"e8fc2123-2aaf-46ff-ad79-51d4002a1ef3\"> 苗栗站</option>,\n",
       " <option value=\"3301e395-46b8-47aa-aa37-139e15708779\"> 台中站</option>,\n",
       " <option value=\"38b8c40b-aef0-4d66-b257-da96ec51620e\"> 彰化站</option>,\n",
       " <option value=\"5f4c7bb0-c676-4e39-8d3c-f12fc188ee5f\"> 雲林站</option>,\n",
       " <option value=\"60831846-f0e4-47f6-9b5b-46323ebdcef7\"> 嘉義站</option>,\n",
       " <option value=\"9c5ac6ca-ec89-48f8-aab0-41b738cb1814\"> 台南站</option>,\n",
       " <option value=\"f2519629-5973-4d08-913b-479cce78a356\"> 左營站</option>]"
      ]
     },
     "execution_count": 2,
     "metadata": {},
     "output_type": "execute_result"
    }
   ],
   "source": [
    "# 觀察 option 裡面的 value\n",
    "soup.find_all(\"option\", {\"value\":re.compile(\"[a-z0-9]{8}-[a-z0-9]{4}\")})"
   ]
  },
  {
   "cell_type": "code",
   "execution_count": 3,
   "metadata": {},
   "outputs": [
    {
     "name": "stdout",
     "output_type": "stream",
     "text": [
      "None\n"
     ]
    }
   ],
   "source": [
    "# 在還沒給任何 form_data 之前，我們是看不到搜尋後的結果的\n",
    "print(soup.find(\"section\", class_ = \"result_table\"))"
   ]
  },
  {
   "cell_type": "code",
   "execution_count": 4,
   "metadata": {
    "collapsed": true
   },
   "outputs": [],
   "source": [
    "# 將 form_data 透過 post 的方式進行 requests\n",
    "form_data = {\"StartStation\":\"2f940836-cedc-41ef-8e28-c2336ac8fe68\",\n",
    "             \"EndStation\":\"e6e26e66-7dc1-458f-b2f3-71ce65fdc95f\",\n",
    "             \"SearchDate\":\"2017/08/13\",\n",
    "             \"SearchTime\":\"20:30\",\n",
    "             \"SearchWay\":\"DepartureInMandarin\"}\n",
    "\n",
    "response_post = requests.post(\"https://www.thsrc.com.tw/tw/TimeTable/SearchResult\", data = form_data)\n",
    "soup_post = BeautifulSoup(response_post.text, \"lxml\")"
   ]
  },
  {
   "cell_type": "code",
   "execution_count": 5,
   "metadata": {},
   "outputs": [
    {
     "data": {
      "text/plain": [
       "<tr>\n",
       "<th colspan=\"4\" scope=\"col\">車次資訊</th>\n",
       "<th colspan=\"1\" scope=\"col\">適用優惠</th>\n",
       "<th rowspan=\"2\" scope=\"col\">備註</th>\n",
       "</tr>"
      ]
     },
     "execution_count": 5,
     "metadata": {},
     "output_type": "execute_result"
    }
   ],
   "source": [
    "# 用同樣的搜尋條件，可以看到搜尋後的結果\n",
    "soup_post.find(\"section\", class_ = \"result_table\").find(\"tr\")"
   ]
  },
  {
   "cell_type": "markdown",
   "metadata": {},
   "source": [
    "## 練習 04: 如何使用 POST (8 mins)\n",
    "請運用 POST 方式，找出 2017 年 8 月 14 日 21:30，**南港站**到**台南站**共有幾個班次?\n",
    "\n",
    "Hint: 先到[高鐵時刻表網站](https://www.thsrc.com.tw/tw/TimeTable/SearchResult)，實際查詢之後，看看班次的資訊都藏在哪些 tags 裡面"
   ]
  },
  {
   "cell_type": "code",
   "execution_count": 13,
   "metadata": {
    "collapsed": true
   },
   "outputs": [],
   "source": [
    "# your codes\n",
    "\n",
    "# 將要查詢的資料寫成 dictionary\n",
    "\n",
    "\n",
    "# requests 改用 POST，並放入剛剛寫好的 dictionary\n",
    "\n"
   ]
  }
 ],
 "metadata": {
  "anaconda-cloud": {},
  "kernelspec": {
   "display_name": "Python 3",
   "language": "python",
   "name": "python3"
  },
  "language_info": {
   "codemirror_mode": {
    "name": "ipython",
    "version": 3
   },
   "file_extension": ".py",
   "mimetype": "text/x-python",
   "name": "python",
   "nbconvert_exporter": "python",
   "pygments_lexer": "ipython3",
   "version": "3.6.1"
  }
 },
 "nbformat": 4,
 "nbformat_minor": 1
}
