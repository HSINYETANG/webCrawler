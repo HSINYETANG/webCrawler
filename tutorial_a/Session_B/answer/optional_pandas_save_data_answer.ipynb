{
 "cells": [
  {
   "cell_type": "markdown",
   "metadata": {},
   "source": [
    "## 範例 05 : 使用 pandas 儲存資料\n",
    "\n",
    "pandas 是 Python 中處理數據非常強大的一個函式庫，不論是讀寫 Data、清洗、轉換、分析等，均有許多方便好用的函數幫忙，熟悉 pandas 可以說是用 Python 做資料分析的第一步!\n",
    "\n",
    "範例 05 將會帶大家學習如何使用 pandas 將我們抓取的資料存成結構化的數據\n",
    "\n",
    "補充資料\n",
    "* [pandas 官方文檔](https://pandas.pydata.org/pandas-docs/stable/index.html)\n",
    "* [pandas tutourials](http://pandas.pydata.org/pandas-docs/version/0.15.2/tutorials.html)\n",
    "* [10 minutes to pandas](https://pandas.pydata.org/pandas-docs/stable/10min.html)\n",
    "* [Python for Data Analysis 電子書](http://www3.canisius.edu/~yany/python/Python4DataAnalysis.pdf)"
   ]
  },
  {
   "cell_type": "markdown",
   "metadata": {},
   "source": [
    "### 1. 使用 columns 來建立 DataFrame"
   ]
  },
  {
   "cell_type": "code",
   "execution_count": 1,
   "metadata": {
    "collapsed": true
   },
   "outputs": [],
   "source": [
    "import requests\n",
    "from bs4 import BeautifulSoup\n",
    "import re\n",
    "import pandas as pd"
   ]
  },
  {
   "cell_type": "code",
   "execution_count": 2,
   "metadata": {
    "collapsed": true
   },
   "outputs": [],
   "source": [
    "# 將要查詢的資料寫成 dictionary\n",
    "form_data = {\n",
    " \"StartStation\":\"2f940836-cedc-41ef-8e28-c2336ac8fe68\",\n",
    " \"EndStation\":\"9c5ac6ca-ec89-48f8-aab0-41b738cb1814\",\n",
    " \"SearchDate\":\"2017/08/14\",\n",
    " \"SearchTime\":\"21:30\", \n",
    " \"SearchWay\":\"DepartureInMandarin\"}\n",
    "\n",
    "response_post = requests.post(\"https://www.thsrc.com.tw/tw/TimeTable/SearchResult\", data = form_data) # 使用 POST\n",
    "soup_post = BeautifulSoup(response_post.text, \"lxml\") # 用 BeautifulSoup 解析網頁"
   ]
  },
  {
   "cell_type": "code",
   "execution_count": 3,
   "metadata": {
    "collapsed": true
   },
   "outputs": [],
   "source": [
    "train_number = [tag.text for tag in soup_post.find_all(\"td\", class_=\"column1\")] # 找出所有 td 標籤 屬性 class=column1 的內容，並存成 List\n",
    "departure = [tag.text for tag in soup_post.find_all(\"td\", class_=\"column3\")] # 找出所有 td 標籤 屬性 class=column3 的內容，並存成 List\n",
    "arrival = [tag.text for tag in soup_post.find_all(\"td\", class_=\"column4\")] # 找出所有 td 標籤 屬性 class=column4 的內容，並存成 List\n",
    "travel_time = [tag.text for tag in soup_post.find_all(\"td\", class_=\"column2\")] # 找出所有 td 標籤 屬性 class=column2 的內容，並存成 List"
   ]
  },
  {
   "cell_type": "code",
   "execution_count": 4,
   "metadata": {
    "collapsed": true
   },
   "outputs": [],
   "source": [
    "highspeed_df = pd.DataFrame({\"車次\":train_number,\n",
    "                          \"出發時間\":departure,\n",
    "                          \"抵達時間\":arrival,\n",
    "                          \"行車時間\":travel_time}, columns = [\"車次\", \"出發時間\", \"抵達時間\", \"行車時間\"])"
   ]
  },
  {
   "cell_type": "code",
   "execution_count": 5,
   "metadata": {},
   "outputs": [
    {
     "data": {
      "text/html": [
       "<div>\n",
       "<style>\n",
       "    .dataframe thead tr:only-child th {\n",
       "        text-align: right;\n",
       "    }\n",
       "\n",
       "    .dataframe thead th {\n",
       "        text-align: left;\n",
       "    }\n",
       "\n",
       "    .dataframe tbody tr th {\n",
       "        vertical-align: top;\n",
       "    }\n",
       "</style>\n",
       "<table border=\"1\" class=\"dataframe\">\n",
       "  <thead>\n",
       "    <tr style=\"text-align: right;\">\n",
       "      <th></th>\n",
       "      <th>車次</th>\n",
       "      <th>出發時間</th>\n",
       "      <th>抵達時間</th>\n",
       "      <th>行車時間</th>\n",
       "    </tr>\n",
       "  </thead>\n",
       "  <tbody>\n",
       "    <tr>\n",
       "      <th>0</th>\n",
       "      <td>0693</td>\n",
       "      <td>21:30</td>\n",
       "      <td>23:27</td>\n",
       "      <td>01:57</td>\n",
       "    </tr>\n",
       "    <tr>\n",
       "      <th>1</th>\n",
       "      <td>0333</td>\n",
       "      <td>21:45</td>\n",
       "      <td>23:41</td>\n",
       "      <td>01:56</td>\n",
       "    </tr>\n",
       "    <tr>\n",
       "      <th>2</th>\n",
       "      <td>0295</td>\n",
       "      <td>22:05</td>\n",
       "      <td>23:47</td>\n",
       "      <td>01:42</td>\n",
       "    </tr>\n",
       "  </tbody>\n",
       "</table>\n",
       "</div>"
      ],
      "text/plain": [
       "     車次   出發時間   抵達時間   行車時間\n",
       "0  0693  21:30  23:27  01:57\n",
       "1  0333  21:45  23:41  01:56\n",
       "2  0295  22:05  23:47  01:42"
      ]
     },
     "execution_count": 5,
     "metadata": {},
     "output_type": "execute_result"
    }
   ],
   "source": [
    "highspeed_df "
   ]
  },
  {
   "cell_type": "code",
   "execution_count": 6,
   "metadata": {
    "collapsed": true
   },
   "outputs": [],
   "source": [
    "highspeed_df.to_csv(\"csv_results/demo6_highspeed_schedule.csv\", index = False, encoding = \"cp950\")"
   ]
  },
  {
   "cell_type": "markdown",
   "metadata": {},
   "source": [
    "### 2. 使用 rows 來建立 DataFrame"
   ]
  },
  {
   "cell_type": "code",
   "execution_count": 7,
   "metadata": {
    "collapsed": true
   },
   "outputs": [],
   "source": [
    "# 將要查詢的資料寫成 dictionary\n",
    "form_data = {\n",
    " \"StartStation\":\"2f940836-cedc-41ef-8e28-c2336ac8fe68\",\n",
    " \"EndStation\":\"9c5ac6ca-ec89-48f8-aab0-41b738cb1814\",\n",
    " \"SearchDate\":\"2017/08/14\",\n",
    " \"SearchTime\":\"21:30\", \n",
    " \"SearchWay\":\"DepartureInMandarin\"}\n",
    "\n",
    "response_post = requests.post(\"https://www.thsrc.com.tw/tw/TimeTable/SearchResult\", data = form_data) # 使用 POST\n",
    "soup_post = BeautifulSoup(response_post.text, \"lxml\") # 用 BeautifulSoup 解析網頁"
   ]
  },
  {
   "cell_type": "code",
   "execution_count": 8,
   "metadata": {
    "collapsed": true
   },
   "outputs": [],
   "source": [
    "highspeed_df = pd.DataFrame(columns = [\"車次\", \"出發時間\", \"抵達時間\", \"行車時間\"]) # 先建立好 DataFrame "
   ]
  },
  {
   "cell_type": "code",
   "execution_count": 9,
   "metadata": {},
   "outputs": [
    {
     "name": "stdout",
     "output_type": "stream",
     "text": [
      "0\n",
      "1\n",
      "2\n"
     ]
    }
   ],
   "source": [
    "for i in range(3):\n",
    "    print(i)\n",
    "    row = soup_post.find_all(\"table\", class_=\"touch_table\")[i] # table 這個標籤包含所有行車資訊，我們用 index 一個一個 by row 取出來\n",
    "    row_contents = [tag.text for tag in row.find_all(\"td\", class_= re.compile(\"column\"))] # 一個 row 有包含其他資訊，我們只要選出 class 包含 column 的 內容\n",
    "    highspeed_df.loc[i] = row_contents # DataFrame 中， 第 i 行的值等於 row_text"
   ]
  },
  {
   "cell_type": "code",
   "execution_count": 10,
   "metadata": {},
   "outputs": [
    {
     "data": {
      "text/html": [
       "<div>\n",
       "<style>\n",
       "    .dataframe thead tr:only-child th {\n",
       "        text-align: right;\n",
       "    }\n",
       "\n",
       "    .dataframe thead th {\n",
       "        text-align: left;\n",
       "    }\n",
       "\n",
       "    .dataframe tbody tr th {\n",
       "        vertical-align: top;\n",
       "    }\n",
       "</style>\n",
       "<table border=\"1\" class=\"dataframe\">\n",
       "  <thead>\n",
       "    <tr style=\"text-align: right;\">\n",
       "      <th></th>\n",
       "      <th>車次</th>\n",
       "      <th>出發時間</th>\n",
       "      <th>抵達時間</th>\n",
       "      <th>行車時間</th>\n",
       "    </tr>\n",
       "  </thead>\n",
       "  <tbody>\n",
       "    <tr>\n",
       "      <th>0</th>\n",
       "      <td>0693</td>\n",
       "      <td>21:30</td>\n",
       "      <td>23:27</td>\n",
       "      <td>01:57</td>\n",
       "    </tr>\n",
       "    <tr>\n",
       "      <th>1</th>\n",
       "      <td>0333</td>\n",
       "      <td>21:45</td>\n",
       "      <td>23:41</td>\n",
       "      <td>01:56</td>\n",
       "    </tr>\n",
       "    <tr>\n",
       "      <th>2</th>\n",
       "      <td>0295</td>\n",
       "      <td>22:05</td>\n",
       "      <td>23:47</td>\n",
       "      <td>01:42</td>\n",
       "    </tr>\n",
       "  </tbody>\n",
       "</table>\n",
       "</div>"
      ],
      "text/plain": [
       "     車次   出發時間   抵達時間   行車時間\n",
       "0  0693  21:30  23:27  01:57\n",
       "1  0333  21:45  23:41  01:56\n",
       "2  0295  22:05  23:47  01:42"
      ]
     },
     "execution_count": 10,
     "metadata": {},
     "output_type": "execute_result"
    }
   ],
   "source": [
    "highspeed_df "
   ]
  },
  {
   "cell_type": "code",
   "execution_count": 11,
   "metadata": {
    "collapsed": true
   },
   "outputs": [],
   "source": [
    "# for windows\n",
    "highspeed_df.to_csv(\"csv_results/demo6_highspeed_schedule.csv\", index = False, encoding = \"cp950\")\n",
    "\n",
    "# for linux\n",
    "highspeed_df.to_csv(\"csv_results/demo6_highspeed_schedule.csv\", index = False, encoding = \"utf-8\")"
   ]
  },
  {
   "cell_type": "markdown",
   "metadata": {},
   "source": [
    "## 練習 05 : 使用 pandas 將抓下來的資訊儲存成表格\n",
    "\n",
    "請觀察[518 黃頁網](http://yp.518.com.tw/service-life.html?ctf=10)，並將店名、地址及電話三個欄位抓下來，並存成表格如 PPT 所示\n",
    "* 觀察店名、地址及電話都藏在哪些標籤底下? 有共用的屬性嗎?\n",
    "* 選擇要用 Rows 或 Columns 來組成 DataFrame\n",
    "* 請將檔案儲存在 csv_results 這個資料夾"
   ]
  },
  {
   "cell_type": "code",
   "execution_count": 12,
   "metadata": {},
   "outputs": [
    {
     "data": {
      "text/html": [
       "<div>\n",
       "<style>\n",
       "    .dataframe thead tr:only-child th {\n",
       "        text-align: right;\n",
       "    }\n",
       "\n",
       "    .dataframe thead th {\n",
       "        text-align: left;\n",
       "    }\n",
       "\n",
       "    .dataframe tbody tr th {\n",
       "        vertical-align: top;\n",
       "    }\n",
       "</style>\n",
       "<table border=\"1\" class=\"dataframe\">\n",
       "  <thead>\n",
       "    <tr style=\"text-align: right;\">\n",
       "      <th></th>\n",
       "      <th>店名</th>\n",
       "      <th>地址</th>\n",
       "      <th>電話</th>\n",
       "    </tr>\n",
       "  </thead>\n",
       "  <tbody>\n",
       "    <tr>\n",
       "      <th>0</th>\n",
       "      <td>藍柚小廚</td>\n",
       "      <td>新北市 / 永和區 永亨路49號</td>\n",
       "      <td>02-29242789</td>\n",
       "    </tr>\n",
       "    <tr>\n",
       "      <th>1</th>\n",
       "      <td>果蔗新鮮</td>\n",
       "      <td>桃園縣 / 龍潭鄉 龍元路33號</td>\n",
       "      <td>03-4709933</td>\n",
       "    </tr>\n",
       "    <tr>\n",
       "      <th>2</th>\n",
       "      <td>沁采美食館</td>\n",
       "      <td>台中市 / 北區 進德北路38號</td>\n",
       "      <td>04-23601719</td>\n",
       "    </tr>\n",
       "    <tr>\n",
       "      <th>3</th>\n",
       "      <td>御私藏鮮奶茶專賣</td>\n",
       "      <td>台南市 / 東區 育樂街17號</td>\n",
       "      <td>06-2092929</td>\n",
       "    </tr>\n",
       "    <tr>\n",
       "      <th>4</th>\n",
       "      <td>天沅茶舖</td>\n",
       "      <td>嘉義市 / 西區 仁愛路449號</td>\n",
       "      <td>05-2238686</td>\n",
       "    </tr>\n",
       "    <tr>\n",
       "      <th>5</th>\n",
       "      <td>板塊企業有限公司</td>\n",
       "      <td>高雄市 / 湖內區 忠孝街130巷139號</td>\n",
       "      <td>07-6994433</td>\n",
       "    </tr>\n",
       "    <tr>\n",
       "      <th>6</th>\n",
       "      <td>多那之咖啡蛋糕烘焙-德賢店</td>\n",
       "      <td>高雄市 / 楠梓區 德賢路471號</td>\n",
       "      <td>07-3610768</td>\n",
       "    </tr>\n",
       "    <tr>\n",
       "      <th>7</th>\n",
       "      <td>旺朔食品企業社</td>\n",
       "      <td>新北市 / 板橋區 僑中一街124巷62-20號</td>\n",
       "      <td>02-29662939</td>\n",
       "    </tr>\n",
       "    <tr>\n",
       "      <th>8</th>\n",
       "      <td>旺朔食品企業社</td>\n",
       "      <td>新北市 / 板橋區 僑中一街124巷62-20號</td>\n",
       "      <td>02-29662939</td>\n",
       "    </tr>\n",
       "    <tr>\n",
       "      <th>9</th>\n",
       "      <td>大庭牛肉麵</td>\n",
       "      <td>新北市 / 板橋區 國光路39號</td>\n",
       "      <td>02-29609370</td>\n",
       "    </tr>\n",
       "  </tbody>\n",
       "</table>\n",
       "</div>"
      ],
      "text/plain": [
       "              店名                        地址           電話\n",
       "0           藍柚小廚          新北市 / 永和區 永亨路49號  02-29242789\n",
       "1           果蔗新鮮          桃園縣 / 龍潭鄉 龍元路33號   03-4709933\n",
       "2          沁采美食館          台中市 / 北區 進德北路38號  04-23601719\n",
       "3       御私藏鮮奶茶專賣           台南市 / 東區 育樂街17號   06-2092929\n",
       "4           天沅茶舖          嘉義市 / 西區 仁愛路449號   05-2238686\n",
       "5       板塊企業有限公司     高雄市 / 湖內區 忠孝街130巷139號   07-6994433\n",
       "6  多那之咖啡蛋糕烘焙-德賢店         高雄市 / 楠梓區 德賢路471號   07-3610768\n",
       "7        旺朔食品企業社  新北市 / 板橋區 僑中一街124巷62-20號  02-29662939\n",
       "8        旺朔食品企業社  新北市 / 板橋區 僑中一街124巷62-20號  02-29662939\n",
       "9          大庭牛肉麵          新北市 / 板橋區 國光路39號  02-29609370"
      ]
     },
     "execution_count": 12,
     "metadata": {},
     "output_type": "execute_result"
    }
   ],
   "source": [
    "# your codes\n",
    "import requests\n",
    "from bs4 import BeautifulSoup\n",
    "import re\n",
    "import pandas as pd\n",
    "\n",
    "## 518 網頁伺服器無法容納多人同時 requests，請大家使用以下的網頁作 requests，其 html 的內容是一模一樣的\n",
    "response = requests.get(\"https://jimmy15923.github.io/518\")\n",
    "soup = BeautifulSoup(response.text, \"lxml\")\n",
    "\n",
    "name_phone = [tag.text for tag in soup.find_all(\"li\", class_=\"comp_tel\")]\n",
    "address = [tag.text for tag in soup.find_all(\"li\", class_=\"comp_loca\")]\n",
    "\n",
    "name_phone_str = \"\".join(name_phone)\n",
    "phone = re.findall(\"[0-9]{2}-[0-9]+\", name_phone_str)\n",
    "name = [x.split(\"/\")[0].strip() for x in name_phone]\n",
    "\n",
    "df = pd.DataFrame({'店名':name,\n",
    "                  \"地址\":address,\n",
    "                  \"電話\":phone}, columns = [\"店名\", \"地址\",\"電話\"])\n",
    "df.to_csv(\"csv_results/practice05.csv\", index = False, encoding=\"cp950\")\n",
    "df"
   ]
  }
 ],
 "metadata": {
  "anaconda-cloud": {},
  "kernelspec": {
   "display_name": "Python 3",
   "language": "python",
   "name": "python3"
  },
  "language_info": {
   "codemirror_mode": {
    "name": "ipython",
    "version": 3
   },
   "file_extension": ".py",
   "mimetype": "text/x-python",
   "name": "python",
   "nbconvert_exporter": "python",
   "pygments_lexer": "ipython3",
   "version": "3.6.1"
  }
 },
 "nbformat": 4,
 "nbformat_minor": 1
}
