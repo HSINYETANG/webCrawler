{
 "cells": [
  {
   "cell_type": "code",
   "execution_count": 1,
   "metadata": {},
   "outputs": [
    {
     "name": "stdout",
     "output_type": "stream",
     "text": [
      "static get: First featurette heading. It'll blow your mind.\n",
      "selenium get:  Rendered by Javascript\n"
     ]
    }
   ],
   "source": [
    "import os\n",
    "import sys\n",
    "import requests\n",
    "from bs4 import BeautifulSoup\n",
    "from selenium import webdriver\n",
    "\n",
    "# 對範例網站送出 request 並把回應的網頁內容送到解析器\n",
    "url = 'https://afuntw.github.io/demo-crawling/demo-page/ex4/index1.html'\n",
    "response = requests.get(url)\n",
    "soup = BeautifulSoup(response.text, 'lxml')\n",
    "\n",
    "# 搜尋 id 是 first 的 h2 tag\n",
    "h2 = soup.find_all('h2', id=\"first\")\n",
    "print('static get:', h2[0].text)\n",
    "\n",
    "\n",
    "\n",
    "# Selenium\n",
    "# 打開 Chrome 瀏覽器\n",
    "# Linux/ Windows/ MAC\n",
    "if sys.platform == 'linux':\n",
    "    driver = webdriver.Chrome(os.path.abspath('../webdriver/linux/chromedriver'))\n",
    "elif sys.platform == 'win32':\n",
    "    driver = webdriver.Chrome(os.path.abspath('../webdriver/windows/chromedriver.exe'))\n",
    "elif sys.platform == 'darwin':\n",
    "    driver = webdriver.Chrome(os.path.abspath('../webdriver/mac/chromedriver'))\n",
    "\n",
    "# 將瀏覽器視窗最大化\n",
    "driver.maximize_window()\n",
    "\n",
    "# 對目標網站送 request\n",
    "driver.get(url)\n",
    "\n",
    "# 搜尋 id 是 first 的 h2 tag\n",
    "selenium_h2 = driver.find_element_by_id('first')\n",
    "print('selenium get: ', selenium_h2.text)\n",
    "\n",
    "# 關掉瀏覽器\n",
    "driver.quit()\n"
   ]
  }
 ],
 "metadata": {
  "kernelspec": {
   "display_name": "Python 3",
   "language": "python",
   "name": "python3"
  },
  "language_info": {
   "codemirror_mode": {
    "name": "ipython",
    "version": 3
   },
   "file_extension": ".py",
   "mimetype": "text/x-python",
   "name": "python",
   "nbconvert_exporter": "python",
   "pygments_lexer": "ipython3",
   "version": "3.5.2"
  }
 },
 "nbformat": 4,
 "nbformat_minor": 2
}
