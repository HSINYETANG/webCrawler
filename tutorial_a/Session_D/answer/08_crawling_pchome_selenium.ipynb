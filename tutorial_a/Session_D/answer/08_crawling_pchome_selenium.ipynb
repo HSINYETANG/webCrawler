{
 "cells": [
  {
   "cell_type": "code",
   "execution_count": 1,
   "metadata": {},
   "outputs": [
    {
     "name": "stdout",
     "output_type": "stream",
     "text": [
      "ASUS B9440UA-0251A7200U (i5-7200/8G/256G SSD/W10P) - 32900\n",
      "(商)Lenovo ThinkPad T470 20HDA00STW(i5-7200U/940MX-2G/1TB/W10P) - 39900\n",
      "(商)HP X360 1030 G2(i7-7600U/8G*2/512GB SSD/FHD/W10Pro) - 68900\n",
      "(商)HP 240 G6 (i5-7200U/14/4G/500GB/Win10) - 18900\n",
      "DELL M7520(i7-7820HQ/Nvidia Quadro M2200M-4G/1TB+256GB/W10P/FHD)繪圖工作站筆電 - 89990\n",
      "ASUS P2430UJ-0321A6200U (i5-6200U/4G/500G/920M-2G/Win10) - 22900\n",
      "(商)Lenovo ThinkPad X1c 20HRA010TW(i7-7500U/256G SSD/W10P/FHD) - 59900\n",
      "(商) HP Probook 430 G4(i5-7200U/4G DDR4/500GB/Win10) - 25900\n",
      "(商)HP 240 G6 (i5-7200U/14/4G/500GB/Win10pro) - 23900\n",
      "DELL M5520(i7-7820HQ/M1200M/512GB SSD/Win10 Pro/UHD)繪圖工作站筆電 - 98990\n",
      "ASUS P2530UJ-0461A6200U (i5-6200U/8G/1TB/GeForce 920M-2G/W10P) - 23900\n",
      "(商)Lenovo ThinkPad T470s 20HFA00ETW(i7-7600U/512G SSD/W10P) - 63900\n",
      "(商)HP Probook 650 G3(i7-7600U/512GB SSD/AMD Radeon R7 M465 2GB/W10P) - 50900\n",
      "(商)HP 240 G6 (i3-6006U/14/UMA/500G/W10DW7) - 17900\n",
      "ASUS B9440UA-0251A7200U (i5-7200/8G/256G SSD/W10P) - 32900\n",
      "ASUS P2530UJ-0271A6500U (i7-6500U/8G/1TB/920M-2G/FHD/Win10P) - 32900\n",
      "(商)Lenovo ThinkPad Edge15 E570 20H5A037TW(i7-7500U/GTX 950M-2G/1TB/W10/FHD) - 34900\n",
      "ACER TravelMate TMP238-M-77JQ (i7-6500U/8GB/256GB SSD/W7P+W10P) - 33800\n",
      "ACER TravelMate TMX349-G2-M-53L8.(i5-7200U/8GB/256GB SSD/W10P) - 30500\n",
      "DELL M7520(i7-7820HQ/Nvidia Quadro M1200M-4G/1TB/W10P/FHD)繪圖工作站筆電 - 76900\n",
      "ASUS A550V-0203J6700HQ (i7-6700HQ/500G/GTX950M 2G獨顯/W10P) - 28900\n",
      "(商)Lenovo ThinkPad X260 20F6A07QTW(i5-6200U/1TB/W10P) - 38900\n",
      "ACER TravelMate TMP249-M-C1DV.(CM3855U/4GB DDR4/500GB/W10P) - 14990\n",
      "ACER TravelMate TMP249-M-3142.(i3-6100U/4GB/500GB/W7P+W10P) - 17990\n",
      "DELL M7510(i7-6820HQ/Nvidia Quadro M1000M-2G/1TB/W7P/FHD)繪圖工作站筆電 - 69900\n",
      "ASUS B8230UA-0061A6500U (i7-6500U/512G SSD/W7P) - 44900\n",
      "(商)Lenovo ThinkPad X270 20HNA00RTW (i5-7200U/1TB/W10P) - 41900\n",
      "ACER TravelMate TMP446-M-54S0.(i5-5200U/4GB/500G/W7P+W10P) - 19900\n",
      "ACER TravelMate TMP259-M-5726(i5-6200U/4GB/128GB SSD/W7P+W10P) - 26900\n",
      "ASUS P2430UJ-0321A6200U (i5-6200U/4G/500G/920M-2G/Win10) - 22900\n"
     ]
    }
   ],
   "source": [
    "import os\n",
    "import sys\n",
    "from selenium import webdriver\n",
    "from selenium.webdriver.common.by import By\n",
    "\n",
    "\n",
    "# PC home 商用筆電\n",
    "url = 'http://24h.pchome.com.tw/region/DHBE'\n",
    "\n",
    "# Selenium\n",
    "# 打開 Chrome 瀏覽器\n",
    "# Linux/ Windows/ MAC\n",
    "if sys.platform == 'linux':\n",
    "    driver = webdriver.Chrome(os.path.abspath('../webdriver/linux/chromedriver'))\n",
    "elif sys.platform == 'win32':\n",
    "    driver = webdriver.Chrome(os.path.abspath('../webdriver/windows/chromedriver.exe'))\n",
    "elif sys.platform == 'darwin':\n",
    "    driver = webdriver.Chrome(os.path.abspath('../webdriver/mac/chromedriver'))\n",
    "\n",
    "# 將瀏覽器視窗最大化\n",
    "driver.maximize_window()\n",
    "\n",
    "# 對目標網站送 request\n",
    "driver.get(url)\n",
    "\n",
    "# 取得任何位置的dl tag, id = Block12COntainer50 底下的所有 dd tag\n",
    "items = driver.find_elements(By.XPATH, '//dl[@id=\"Block12Container50\"]/dd')\n",
    "\n",
    "# 逐一對每個 tag 處理\n",
    "for item in items:\n",
    "\n",
    "    # 品名在當前 tag 底下的 div 底下的 h5 底下的 a 裏面的 text\n",
    "    title = item.find_element(By.XPATH, './div/h5/a').text\n",
    "\n",
    "    # 價格在當前 tag 底下的 div 底下的 ul 底下的 li 底下的第2層 span\n",
    "    price = item.find_element(By.XPATH, './div/ul/li/span/span').text\n",
    "\n",
    "    # 如果品名與價格有任一是空值, 則不處理\n",
    "    if title and price:\n",
    "        print('{} - {}'.format(title, price))\n",
    "\n",
    "# 關掉瀏覽器\n",
    "driver.quit()\n"
   ]
  }
 ],
 "metadata": {
  "kernelspec": {
   "display_name": "Python 3",
   "language": "python",
   "name": "python3"
  },
  "language_info": {
   "codemirror_mode": {
    "name": "ipython",
    "version": 3
   },
   "file_extension": ".py",
   "mimetype": "text/x-python",
   "name": "python",
   "nbconvert_exporter": "python",
   "pygments_lexer": "ipython3",
   "version": "3.5.2"
  }
 },
 "nbformat": 4,
 "nbformat_minor": 2
}
