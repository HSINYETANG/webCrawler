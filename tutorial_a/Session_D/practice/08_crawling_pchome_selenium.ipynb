{
 "cells": [
  {
   "cell_type": "code",
   "execution_count": null,
   "metadata": {
    "collapsed": true
   },
   "outputs": [],
   "source": [
    "import os\n",
    "import sys\n",
    "from selenium import webdriver\n",
    "from selenium.webdriver.common.by import By\n",
    "\n",
    "\n",
    "# PC home 商用筆電\n",
    "url = 'http://24h.pchome.com.tw/region/DHBE'\n",
    "\n",
    "# Selenium\n",
    "# 打開 Chrome 瀏覽器\n",
    "# Linux/ Windows/ MAC\n",
    "if sys.platform == 'linux':\n",
    "    driver = webdriver.Chrome(os.path.abspath('../webdriver/linux/chromedriver'))\n",
    "elif sys.platform == 'win32':\n",
    "    driver = webdriver.Chrome(os.path.abspath('../webdriver/windows/chromedriver.exe'))\n",
    "elif sys.platform == 'darwin':\n",
    "    driver = webdriver.Chrome(os.path.abspath('../webdriver/mac/chromedriver'))\n",
    "\n",
    "# 將瀏覽器視窗最大化\n",
    "\n",
    "\n",
    "# 對目標網站送 request\n",
    "\n",
    "\n",
    "# 取得任何位置的dl tag, id = Block12COntainer50 底下的所有 dd tag\n",
    "items = \n",
    "\n",
    "# 逐一對每個 tag 處理\n",
    "for item in items:\n",
    "\n",
    "    # 品名在當前 tag 底下的 div 底下的 h5 底下的 a 裏面的 text\n",
    "    title = \n",
    "\n",
    "    # 價格在當前 tag 底下的 div 底下的 ul 底下的 li 底下的第2層 span\n",
    "    price = \n",
    "\n",
    "    # 如果品名與價格有任一是空值, 則不處理\n",
    "    if title and price:\n",
    "        print('{} - {}'.format(title, price))\n",
    "\n",
    "# 關掉瀏覽器\n",
    "driver.quit()\n"
   ]
  }
 ],
 "metadata": {
  "kernelspec": {
   "display_name": "Python 3",
   "language": "python",
   "name": "python3"
  },
  "language_info": {
   "codemirror_mode": {
    "name": "ipython",
    "version": 3
   },
   "file_extension": ".py",
   "mimetype": "text/x-python",
   "name": "python",
   "nbconvert_exporter": "python",
   "pygments_lexer": "ipython3",
   "version": "3.5.2"
  }
 },
 "nbformat": 4,
 "nbformat_minor": 2
}
