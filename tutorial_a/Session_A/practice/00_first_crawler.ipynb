{
 "cells": [
  {
   "cell_type": "markdown",
   "metadata": {},
   "source": [
    "# SESSION A: 爬蟲基本介紹"
   ]
  },
  {
   "cell_type": "code",
   "execution_count": 1,
   "metadata": {
    "collapsed": true
   },
   "outputs": [],
   "source": [
    "# Session A 用到的套件，如果有 import error，請打開 Anaconda Prompt 並參考 https://github.com/afunTW/dsc-crawling 的教學安裝套件\n",
    "from bs4 import BeautifulSoup\n",
    "import requests\n",
    "import re"
   ]
  },
  {
   "cell_type": "markdown",
   "metadata": {},
   "source": [
    "### 簡單的 Python 教學 (本課程會用到的部分，有 Python 基礎的同學可以跳過) "
   ]
  },
  {
   "cell_type": "markdown",
   "metadata": {},
   "source": [
    "python 的資料形態，本課程會用到的主要有兩種 \n",
    "1. List (串列)，把資料一個一個存在中括號 [ ] 裡面 \n",
    "2. Dictionary (字典)，把資料透過 key:value 的方式存在一個大括號 {} 裡面"
   ]
  },
  {
   "cell_type": "code",
   "execution_count": 2,
   "metadata": {},
   "outputs": [
    {
     "name": "stdout",
     "output_type": "stream",
     "text": [
      "<class 'list'>\n",
      "[1, 2, 3]\n"
     ]
    }
   ],
   "source": [
    "example_list = [1, 2, 3]\n",
    "print(type(example_list))\n",
    "print(example_list)"
   ]
  },
  {
   "cell_type": "code",
   "execution_count": 3,
   "metadata": {},
   "outputs": [
    {
     "name": "stdout",
     "output_type": "stream",
     "text": [
      "<class 'dict'>\n",
      "{'a': 1, 'b': 2, 'c': 3}\n"
     ]
    }
   ],
   "source": [
    "example_dictionay = {\"a\":1, \"b\":2, \"c\":3}\n",
    "print(type(example_dictionay))\n",
    "print(example_dictionay)"
   ]
  },
  {
   "cell_type": "markdown",
   "metadata": {},
   "source": [
    "#### python 的 loop 寫法\n",
    "\n",
    "進到 list (串列)裡面，依序把裡面的值取出來"
   ]
  },
  {
   "cell_type": "code",
   "execution_count": 4,
   "metadata": {},
   "outputs": [
    {
     "name": "stdout",
     "output_type": "stream",
     "text": [
      "1\n",
      "2\n",
      "3\n"
     ]
    }
   ],
   "source": [
    "example_list = [1, 2, 3]\n",
    "for num in example_list:\n",
    "    print(num)"
   ]
  },
  {
   "cell_type": "markdown",
   "metadata": {},
   "source": [
    "另一種簡潔的 loop 寫法"
   ]
  },
  {
   "cell_type": "code",
   "execution_count": 5,
   "metadata": {},
   "outputs": [
    {
     "data": {
      "text/plain": [
       "[1, 2, 3]"
      ]
     },
     "execution_count": 5,
     "metadata": {},
     "output_type": "execute_result"
    }
   ],
   "source": [
    "[num for num in example_list]"
   ]
  },
  {
   "cell_type": "markdown",
   "metadata": {},
   "source": [
    "#### 建立新 list\n",
    "\n",
    "進到 list (串列)裡面，依序把值取出來並+1，再放回 list 裡面，最後將這個 list 存成一個新的 new_example_list"
   ]
  },
  {
   "cell_type": "code",
   "execution_count": 6,
   "metadata": {},
   "outputs": [
    {
     "name": "stdout",
     "output_type": "stream",
     "text": [
      "[2, 3, 4]\n"
     ]
    }
   ],
   "source": [
    "example_list = [1, 2, 3]\n",
    "print([num + 1 for num in example_list])\n",
    "new_example_list = [num + 1 for num in example_list] #　把加過 1 的新 list 存成新的 new_example_list 變數"
   ]
  },
  {
   "cell_type": "markdown",
   "metadata": {},
   "source": [
    "### jupyter notebook 的幾個實用 hotkey\n",
    "* alt+enter: 執行 cell 並往下新增一個 cell\n",
    "* ctrl+enter: 執行選取的 cell \n",
    "* shift+enter: 執行 cell 並往下一個 cell (不新增)\n",
    "* esc+a: 往上新增一個 cell\n",
    "* esc+b: 往下新增一個 cell\n",
    "* esc+d+d (d 按兩次): 刪除 cell"
   ]
  },
  {
   "cell_type": "markdown",
   "metadata": {},
   "source": [
    "---\n",
    "## 範例 00:  第一支爬蟲程式\n",
    "如何透過程式，取出[範例網頁](https://jimmy15923.github.io/example_page)中的大標題「Python 爬蟲實戰」?\n",
    "\n",
    "請打開[範例網頁: https://jimmy15923.github.io/example_page](https://jimmy15923.github.io/example_page)，並在「Python 爬蟲實戰」的文字上按右鍵 → 檢查，可以看到這段文字被包在 h1 的標籤中"
   ]
  },
  {
   "cell_type": "code",
   "execution_count": null,
   "metadata": {
    "collapsed": true
   },
   "outputs": [],
   "source": [
    "# import 套件\n",
    "\n",
    "\n",
    "# 用 requests 抓取網頁 https://jimmy15923.github.io/example_page 並存在 response\n",
    "\n",
    "\n",
    "# 用 BS4 解析 HTML 並把結果回傳 soup (lxml 是 BeautifulSoup 的解析器，預設是使用 html.parser，但是 lxml 的速度及性能較佳)\n",
    "\n",
    "\n",
    "# 印出 h1 標籤\n"
   ]
  },
  {
   "cell_type": "markdown",
   "metadata": {},
   "source": [
    "### requests 的函數\n",
    "requests 後的結果我們已經存成 response 這個變數，可以用許多 requests 內建的函數來了解 requets 回傳的結果 (可以輸入 response. 再按 tab 來看有甚麼函數)\n",
    "* [requests 官方文檔](http://docs.python-requests.org/en/master/)"
   ]
  },
  {
   "cell_type": "code",
   "execution_count": null,
   "metadata": {},
   "outputs": [],
   "source": [
    "# 確認 requests 的結果\n",
    "print(response.status_code)"
   ]
  },
  {
   "cell_type": "code",
   "execution_count": null,
   "metadata": {
    "collapsed": true
   },
   "outputs": [],
   "source": [
    "# 確認目標網站的編碼 (requets 會自動猜測目標網站的編碼，若猜測錯誤會顯示亂碼，需要手動修改)\n",
    "print(response.encoding)"
   ]
  },
  {
   "cell_type": "code",
   "execution_count": null,
   "metadata": {
    "collapsed": true
   },
   "outputs": [],
   "source": [
    "# 目標網站的 HTML\n",
    "response.text"
   ]
  },
  {
   "cell_type": "markdown",
   "metadata": {
    "collapsed": true
   },
   "source": [
    "## 練習 00: 淺嘗 BeautifulSoup"
   ]
  },
  {
   "cell_type": "code",
   "execution_count": null,
   "metadata": {
    "collapsed": true
   },
   "outputs": [],
   "source": [
    "# please insert the codes from slides, you can press shift + enter or ctrl + enter to run this cell\n",
    "# your codes\n",
    "\n"
   ]
  }
 ],
 "metadata": {
  "anaconda-cloud": {},
  "kernelspec": {
   "display_name": "Python 3",
   "language": "python",
   "name": "python3"
  },
  "language_info": {
   "codemirror_mode": {
    "name": "ipython",
    "version": 3
   },
   "file_extension": ".py",
   "mimetype": "text/x-python",
   "name": "python",
   "nbconvert_exporter": "python",
   "pygments_lexer": "ipython3",
   "version": "3.6.1"
  }
 },
 "nbformat": 4,
 "nbformat_minor": 1
}
