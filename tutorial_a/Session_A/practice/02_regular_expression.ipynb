{
 "cells": [
  {
   "cell_type": "markdown",
   "metadata": {},
   "source": [
    "## 範例 02: regular expression\n",
    "regular expression 是在大量文字中蒐尋目標資訊時非常好用的工具，可以快速回傳符合您要求的文字\n",
    "\n",
    "例如尋找任何像是電話號碼、E-mail 信箱的文字\n",
    "\n",
    "範例 02 會透過一些簡單的練習帶您了解 regular expression\n",
    "\n",
    "\n",
    "\n",
    "補充資料\n",
    "\n",
    "* [更詳盡的 regular expression 符號解釋](https://atedev.wordpress.com/2007/11/23/%E6%AD%A3%E8%A6%8F%E8%A1%A8%E7%A4%BA%E5%BC%8F-regular-expression/)\n",
    "* [regular expression 線上練習網站](https://regexone.com/)\n",
    "* [常見的 regular expression 寫法](https://www.analyticsvidhya.com/blog/2017/03/extracting-information-from-reports-using-regular-expressons-library-in-python/)\n",
    "* 如果想擷取中文的 regular expression，可用[\\u4e00-\\u9fa5]，會幫你找出所有中文字，其結果如同英文的 [A-Z]"
   ]
  },
  {
   "cell_type": "markdown",
   "metadata": {},
   "source": [
    "regular expression 的符號意義\n",
    "![BS4](data/reg.png)"
   ]
  },
  {
   "cell_type": "markdown",
   "metadata": {},
   "source": [
    "### 以下的練習您可以使用 python 內建的 re 套件，也可以使用這個[線上regular expression 測試器](https://regex101.com/)，可以看到比較互動式的結果，使用方法只要把 test_string 裡的內容複製到網頁下方的 TEST STRING 空格，然後在網頁上方的空格輸入您的  regular expression，就可以看到匹配的結果，左邊的 FLAVOR 記得選擇 python"
   ]
  },
  {
   "cell_type": "markdown",
   "metadata": {},
   "source": [
    "### 範例 02-1:  *, +, {} 的用法\n",
    "\\* 代表前面的字元可出現零次以上，而 + 則是代表前面的字元至少要出現一次以上，{m,n} 則是代表前面的字元可出現 m 次 ~ n 次"
   ]
  },
  {
   "cell_type": "code",
   "execution_count": 1,
   "metadata": {},
   "outputs": [
    {
     "data": {
      "text/plain": [
       "['aabc', 'ac']"
      ]
     },
     "execution_count": 1,
     "metadata": {},
     "output_type": "execute_result"
    }
   ],
   "source": [
    "import re\n",
    "\n",
    "pattern = \"a+b*c\"\n",
    "test_string = 'find aabc, ac, skip abb, dd'\n",
    "re.findall(pattern, test_string)"
   ]
  },
  {
   "cell_type": "markdown",
   "metadata": {},
   "source": [
    "### 練習 02-1: *, +, {} 的用法\n",
    "在 test_string 中找出 abbbbc, bc，但不包含 c, acc\n",
    "\n",
    "Hint: 思考一下要尋找的文字跟要濾除的文字，在字母之間有甚麼差異"
   ]
  },
  {
   "cell_type": "code",
   "execution_count": null,
   "metadata": {
    "collapsed": true
   },
   "outputs": [],
   "source": [
    "import re\n",
    "\n",
    "### your codes\n",
    "pattern = \"\"  # 請輸入搜尋的 pattern\n",
    "test_string = 'find abbbbc, bc, skip c, acc'\n",
    "re.findall(pattern, test_string)"
   ]
  },
  {
   "cell_type": "markdown",
   "metadata": {},
   "source": [
    "### 範例 02-2: 找到英數字\n",
    "中括號代表的意思是「這個字元可以是括號內的任何一個」，以數字為例，[0-9]代表這個字元可以是 0~9 之間的任意數字，如果是 [a-z] 則代表是小寫字母 a~z 之間的任意文字，聰明的你，應該可以猜出 [A-Z] 代表的是甚麼意思吧?"
   ]
  },
  {
   "cell_type": "code",
   "execution_count": 2,
   "metadata": {},
   "outputs": [
    {
     "data": {
      "text/plain": [
       "['12', '11', '10']"
      ]
     },
     "execution_count": 2,
     "metadata": {},
     "output_type": "execute_result"
    }
   ],
   "source": [
    "import re\n",
    "\n",
    "pattern = \"[0-9]+\"\n",
    "test_string = '12 drummers drumming, 11 pipers piping, 10 lords a-leaping'\n",
    "re.findall(pattern, test_string)"
   ]
  },
  {
   "cell_type": "markdown",
   "metadata": {
    "slideshow": {
     "slide_type": "-"
    }
   },
   "source": [
    "### 練習 02-2: 找到英數字\n",
    "在 test_string 中找出所有數字"
   ]
  },
  {
   "cell_type": "code",
   "execution_count": null,
   "metadata": {
    "collapsed": true
   },
   "outputs": [],
   "source": [
    "import re\n",
    "\n",
    "# your codes\n",
    "pattern = \"\"  # 請輸入搜尋的 pattern\n",
    "test_string = 'abc123xyz, de123fine\"123\", test = 123'\n",
    "re.findall(pattern, test_string)"
   ]
  },
  {
   "cell_type": "markdown",
   "metadata": {},
   "source": [
    "### 範例 02-3: 找到文字\n",
    "當有指定的文字需要搜尋，可透過 [ ] 搭配 *, + ,{} 進行搜尋"
   ]
  },
  {
   "cell_type": "code",
   "execution_count": 3,
   "metadata": {},
   "outputs": [
    {
     "data": {
      "text/plain": [
       "['can', 'man', 'fan']"
      ]
     },
     "execution_count": 3,
     "metadata": {},
     "output_type": "execute_result"
    }
   ],
   "source": [
    "import re\n",
    "\n",
    "pattern = \"[cmf]an\"\n",
    "test_string = 'find: can, man, fan, skip: dan, ran, pan'\n",
    "re.findall(pattern, test_string)"
   ]
  },
  {
   "cell_type": "code",
   "execution_count": 4,
   "metadata": {},
   "outputs": [
    {
     "data": {
      "text/plain": [
       "['jimmy', 'jimmmy', 'jimmmmmy']"
      ]
     },
     "execution_count": 4,
     "metadata": {},
     "output_type": "execute_result"
    }
   ],
   "source": [
    "import re\n",
    "\n",
    "pattern = \"jim{2,5}y\"\n",
    "test_string = 'find: jimmy, jimmmy, jimmmmmy, skip: jimy'\n",
    "re.findall(pattern, test_string)"
   ]
  },
  {
   "cell_type": "markdown",
   "metadata": {},
   "source": [
    "### 練習 02-3: 找到文字\n",
    "在 test_string 中找出 ABi, BBc, CNn，但不包含 ai, be, cd\n",
    "\n",
    "Hint: 如果只找到一個大寫字母，想想甚麼符號代表可出現一次以上?"
   ]
  },
  {
   "cell_type": "code",
   "execution_count": null,
   "metadata": {
    "collapsed": true
   },
   "outputs": [],
   "source": [
    "import re\n",
    "\n",
    "# your codes\n",
    "pattern = \"\"  # 請輸入搜尋的 pattern\n",
    "test_string = 'find: ABi, BBc, CNn, skip: ai, be, cd'\n",
    "re.findall(pattern, test_string)"
   ]
  },
  {
   "cell_type": "markdown",
   "metadata": {},
   "source": [
    "### 範例 02-4: 跳脫符號\n",
    "當想要搜尋的字元，在 regular expression 已經是保留字的時候，就要使用跳脫符號\n",
    "\n",
    "例如你想要搜尋符合 \"+\" (加號) 這個文字，但是 \"+\" 在 regular expression 是代表出現一次以上的意思\n",
    "\n",
    "這時在 \"+\" 前面加上 \"\\\" (跳脫符號)，這樣做的話 regular expression 就會知道你是要尋找 \"+\" "
   ]
  },
  {
   "cell_type": "code",
   "execution_count": 5,
   "metadata": {},
   "outputs": [
    {
     "data": {
      "text/plain": [
       "['591.', 'dot.', 'yes.']"
      ]
     },
     "execution_count": 5,
     "metadata": {},
     "output_type": "execute_result"
    }
   ],
   "source": [
    "import re\n",
    "\n",
    "pattern = \".{3}\\.\"\n",
    "test_string = 'find: 591., dot., yes., skip: non!'\n",
    "re.findall(pattern, test_string)"
   ]
  },
  {
   "cell_type": "markdown",
   "metadata": {},
   "source": [
    "### 練習 02-4: 跳脫符號\n",
    "在 test_string 中找到 A+c, B+d, C+x"
   ]
  },
  {
   "cell_type": "code",
   "execution_count": null,
   "metadata": {
    "collapsed": true
   },
   "outputs": [],
   "source": [
    "import re\n",
    "\n",
    "# your codes\n",
    "pattern = \"\"  # 請輸入搜尋的 pattern\n",
    "test_string = 'find: A+c, B+d, C+x'\n",
    "re.findall(pattern, test_string)"
   ]
  },
  {
   "cell_type": "markdown",
   "metadata": {},
   "source": [
    "### 範例 02-5: 條件式搜尋\n",
    "當希望不同的搜尋條件都能夠符合時，可以使用「|」這個符號，代表左右邊只要任一一個條件符合，就會回傳"
   ]
  },
  {
   "cell_type": "code",
   "execution_count": 9,
   "metadata": {},
   "outputs": [
    {
     "data": {
      "text/plain": [
       "['I love cats', 'I love dogs']"
      ]
     },
     "execution_count": 9,
     "metadata": {},
     "output_type": "execute_result"
    }
   ],
   "source": [
    "import re\n",
    "\n",
    "pattern = \"I love cats|I love dogs\"\n",
    "test_string = 'find: I love cats, I love dogs, skip: I love logs, I love cogs'\n",
    "re.findall(pattern, test_string)"
   ]
  },
  {
   "cell_type": "markdown",
   "metadata": {},
   "source": [
    "### 練習 02-5: 條件式搜尋\n",
    "在 test_string 中找到 jimy, jimmmy, 但不包含 jimmy, jimmmmy"
   ]
  },
  {
   "cell_type": "code",
   "execution_count": null,
   "metadata": {
    "collapsed": true
   },
   "outputs": [],
   "source": [
    "import re\n",
    "\n",
    "# your codes\n",
    "pattern = \"\"  # 請輸入搜尋的 pattern\n",
    "test_string = 'find: jimy, jimmmy, skip: jimmy, jimmmmy'\n",
    "re.findall(pattern, test_string)"
   ]
  },
  {
   "cell_type": "markdown",
   "metadata": {},
   "source": [
    "###  範例 02-6: Email 搜尋"
   ]
  },
  {
   "cell_type": "code",
   "execution_count": 7,
   "metadata": {
    "collapsed": true
   },
   "outputs": [],
   "source": [
    "import re\n",
    "\n",
    "email_text = \"\"\"\n",
    "Big Data Analytics/ Deep LearningSocial Computing / Computational Social Science / Crowdsourcing\n",
    "Multimediaand Network SystemsQuality of ExperienceInformation SecurityPh.D. candidate at NTU EEchihfan02-27883799#1602Camera CalibrationComputer VisionData\n",
    "Analysiscmchang02-27883799#1671System OptimizationMachine LearningyusraBig data\n",
    "analysiscclin02-27883799#1668Data Analysisrusi02-27883799#1668Government Procurement ActFinancial\n",
    "Managementkatekuen02-27883799#1602AdministrationEvent Planningseanyu02-27883799#1668Data \n",
    "AnalysisPsychology & NeuroscienceMarketingxinchinchenEmbedded Systemkyoyachuan062602-27883799\n",
    "#1601FinTechActuarial ScienceData Analysiskai0604602-27883799#1601Data AnalysisMachine Learningchloe02-27839427Accountingafun02-27883799 afun@iis.sinica.edu.tw\n",
    "#1673Data AnalysisWeb developmentyunhsu198902-27883799#1668MarketingTIGP Ph.D. Fellow at Academia Sinica & NCCUbaowalyMachine LearningData AnalysisSocial Computingchangyc1427883799#1678\n",
    "Data Analysisjimmy1592302-2788379 jimmy15923@iis.sinica.com.tw#1688Data AnalysisjasontangAnalysisMachine Learninguchen02-27883799#1668Deep Learningpjwu02-27883799#1604Computational PhotographyData Analysis\n",
    "\"\"\""
   ]
  },
  {
   "cell_type": "code",
   "execution_count": 8,
   "metadata": {},
   "outputs": [
    {
     "data": {
      "text/plain": [
       "[('afun@iis.sinica.edu.tw', 'edu'), ('jimmy15923@iis.sinica.com.tw', 'com')]"
      ]
     },
     "execution_count": 8,
     "metadata": {},
     "output_type": "execute_result"
    }
   ],
   "source": [
    "re.findall(\"([A-Za-z0-9._]+@[A-Za-z.]+(com|edu)\\.tw)\", email_text)"
   ]
  },
  {
   "cell_type": "markdown",
   "metadata": {},
   "source": [
    "## 練習 02: regular expression (8 mins)"
   ]
  },
  {
   "cell_type": "markdown",
   "metadata": {},
   "source": [
    "請觀察[518 黃頁網](http://yp.518.com.tw/service-life.html?ctf=10)，並找出所有店家的電話號碼 (包含分機)\n",
    "\n",
    "Hint\n",
    "* 想要的資訊都藏在哪些標籤下?\n",
    "* 把所有可能包含電話的標籤內容全部找出來後，用下面的 code 變成一個字串\n",
    "* text = \" \".join(text_list)，這段 code 可以將 list of string 全部變為一個字串\n",
    "* 變成字串後就可以用剛剛學的 re.findall() 找出我們要的目標囉!"
   ]
  },
  {
   "cell_type": "code",
   "execution_count": null,
   "metadata": {
    "collapsed": true
   },
   "outputs": [],
   "source": [
    "# 如果忘記怎麼寫 requests 或 BeautifulSoup，可以參考\n",
    "\n",
    "## 518 網頁伺服器無法容納多人同時 requests，請大家使用以下的網頁作 requests，其 html 的內容是一模一樣的\n",
    "# response = requests.get(\"https://jimmy15923.github.io/518\")\n",
    "# print(response.encoding)\n",
    "\n",
    "# soup = BeautifulSoup(response.text, \"lxml\")"
   ]
  },
  {
   "cell_type": "code",
   "execution_count": null,
   "metadata": {
    "collapsed": true
   },
   "outputs": [],
   "source": [
    "# your codes\n"
   ]
  }
 ],
 "metadata": {
  "anaconda-cloud": {},
  "kernelspec": {
   "display_name": "Python 3",
   "language": "python",
   "name": "python3"
  },
  "language_info": {
   "codemirror_mode": {
    "name": "ipython",
    "version": 3
   },
   "file_extension": ".py",
   "mimetype": "text/x-python",
   "name": "python",
   "nbconvert_exporter": "python",
   "pygments_lexer": "ipython3",
   "version": "3.6.1"
  }
 },
 "nbformat": 4,
 "nbformat_minor": 1
}
