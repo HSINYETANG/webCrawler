{
 "cells": [
  {
   "cell_type": "markdown",
   "metadata": {},
   "source": [
    "## 範例 01: BeautifulSoup 的常用函數\n",
    "將 HTML 抓下來後，其本身就是一個很大的字串，也當然可以用 regular expression 找出想要的資訊，But to make your life easier，我們可以使用 BeautifulSoup 這個 HTML parser，幫助解析 HTML，並使用許多便捷的 function，讓我們能夠更簡單的找到目標資訊\n",
    "\n",
    "小故事: 關於 BeautifulSoup 的名稱，是來自《愛麗絲夢遊仙境》裡一首詩的名稱，是由下圖中的左邊那隻假的海龜 (The Mock Turtle) 所唱出來的\n",
    "![BS4](data/bs4.jpg)\n",
    "補充資料\n",
    "\n",
    "* 更多 BeautifulSoup 的 funcion 請參考[官方文檔 (有中文版)](https://www.crummy.com/software/BeautifulSoup/bs4/doc/)\n",
    "\n",
    "以下的範例會示範兩個常用的函數: find(), find_all()"
   ]
  },
  {
   "cell_type": "code",
   "execution_count": 1,
   "metadata": {
    "collapsed": true
   },
   "outputs": [],
   "source": [
    "import requests\n",
    "from bs4 import BeautifulSoup\n",
    "\n",
    "response = requests.get(\"https://jimmy15923.github.io/example_page\")\n",
    "soup = BeautifulSoup(response.text, 'lxml')"
   ]
  },
  {
   "cell_type": "code",
   "execution_count": 2,
   "metadata": {},
   "outputs": [
    {
     "name": "stdout",
     "output_type": "stream",
     "text": [
      "<td> 列2 欄1 </td>\n",
      "\n",
      "\n",
      " 列2 欄1 \n"
     ]
    }
   ],
   "source": [
    "print(soup.find(\"td\"))  # 找出第一個名為 td 的標籤\n",
    "print(\"\\n\") # 換行符號，讓兩個 Print 的結果中間可以隔一個空行\n",
    "print(soup.find(\"td\").text)     # 找出第一個名為 td 的標籤並印出其文字內容"
   ]
  },
  {
   "cell_type": "code",
   "execution_count": 3,
   "metadata": {},
   "outputs": [
    {
     "name": "stdout",
     "output_type": "stream",
     "text": [
      "<class 'bs4.element.ResultSet'>\n",
      "\n",
      "\n",
      "[<td> 列2 欄1 </td>, <td class=\"zzz\"> 列2 欄2 (我的屬性 class=\"zzz\") </td>, <td>\n",
      "<a href=\"http://www.yahoo.com.tw\">列2 欄3 (我是 a 標籤，屬性 href=網址) </a>\n",
      "</td>, <td>\n",
      "<a href=\"http://foundation.datasci.tw/\">列2 欄4 (資料協會) </a>\n",
      "</td>, <td value=\"5566\">列3 欄1 </td>, <td>列3 欄2\n",
      "\t\t\t\t<ol>\n",
      "<li class=\"zz\">我是 li 標籤 (列表)，屬性 class=\"zz\" </li>\n",
      "<li> 第二個 li 標籤 </li>\n",
      "</ol>\n",
      "</td>, <td>\n",
      "<a href=\"http://foundation.datasci.tw/python-crawling-170813/\" id=\"hyperlink\"> 列3 欄3 (資料協會-python 爬蟲實戰)</a>\n",
      "</td>, <td class=\"zzzz\">列3 欄4 (我的屬性 class=\"zzzz\")</td>]\n"
     ]
    }
   ],
   "source": [
    "print(type(soup.find_all(\"td\"))) # find_all 回傳的是 list\n",
    "print(\"\\n\")\n",
    "print(soup.find_all(\"td\")) # 找出所有 td 的標籤，並回傳 list"
   ]
  },
  {
   "cell_type": "code",
   "execution_count": 4,
   "metadata": {},
   "outputs": [
    {
     "name": "stdout",
     "output_type": "stream",
     "text": [
      "[<div class=\"zzz\" id=\"id1\">我是有著屬性 class=\"zzz\" 的標籤內容</div>, <td class=\"zzz\"> 列2 欄2 (我的屬性 class=\"zzz\") </td>]\n",
      "\n",
      "\n",
      "[<div class=\"zzz\" id=\"id1\">我是有著屬性 class=\"zzz\" 的標籤內容</div>, <td class=\"zzz\"> 列2 欄2 (我的屬性 class=\"zzz\") </td>]\n"
     ]
    }
   ],
   "source": [
    "print(soup.find_all(\"\", {\"class\":\"zzz\"}))     # 不指定標籤，但找出所有屬性 class = \"zzz\" 的標籤\n",
    "print(\"\\n\")\n",
    "print(soup.find_all(\"\", class_=\"zzz\"))     # 不同寫法 但有一樣的結果"
   ]
  },
  {
   "cell_type": "code",
   "execution_count": 5,
   "metadata": {},
   "outputs": [
    {
     "name": "stdout",
     "output_type": "stream",
     "text": [
      "<td>\n",
      " <a href=\"http://www.yahoo.com.tw\">\n",
      "  列2 欄3 (我是 a 標籤，屬性 href=網址)\n",
      " </a>\n",
      "</td>\n",
      "\n",
      "\n",
      "\n",
      "<a href=\"http://www.yahoo.com.tw\">列2 欄3 (我是 a 標籤，屬性 href=網址) </a>\n"
     ]
    }
   ],
   "source": [
    "print(soup.find_all(\"td\")[2].prettify())  # 找到所有 td 的標籤，然後在第三個 (python index 從 0 開始) td 標籤中，再找出 a 標籤\n",
    "print(\"\\n\")\n",
    "print(soup.find_all(\"td\")[2].find(\"a\")) "
   ]
  },
  {
   "cell_type": "code",
   "execution_count": 6,
   "metadata": {},
   "outputs": [
    {
     "name": "stdout",
     "output_type": "stream",
     "text": [
      "['python_crawler', 'python_crawler']\n"
     ]
    }
   ],
   "source": [
    "print(soup.find_all(text = \"python_crawler\"))   # 找出所有標籤文字內容等於 python_crawler 的次數"
   ]
  },
  {
   "cell_type": "code",
   "execution_count": 7,
   "metadata": {},
   "outputs": [
    {
     "name": "stdout",
     "output_type": "stream",
     "text": [
      "{'href': 'http://www.yahoo.com.tw'}\n",
      "http://www.yahoo.com.tw\n"
     ]
    }
   ],
   "source": [
    "print(soup.find(\"a\").attrs)     # 以 Dictionary (字典) 的形式儲存標籤的屬性\n",
    "print(soup.find(\"a\")['href'])     # 找出標籤屬性中的超連結"
   ]
  },
  {
   "cell_type": "code",
   "execution_count": 8,
   "metadata": {},
   "outputs": [
    {
     "name": "stdout",
     "output_type": "stream",
     "text": [
      "Python 爬蟲實戰\n"
     ]
    }
   ],
   "source": [
    "print(soup.find(\"h1\").text)"
   ]
  },
  {
   "cell_type": "markdown",
   "metadata": {},
   "source": [
    "## 練習 01: 基本的 BeautifulSoup 使用 (8 mins)"
   ]
  },
  {
   "cell_type": "markdown",
   "metadata": {},
   "source": [
    "請觀察[範例網頁](https://jimmy15923.github.io/example_page)後，嘗試回答以下的問題\n",
    "\n",
    "\n",
    "    \n",
    "    jupyter notebook 的幾個實用 hotkey\n",
    "    * alt+enter: 執行 cell 並往下新增一個 cell\n",
    "    * shift+enter: 執行 cell 並往下一個 cell (不新增)\n",
    "    * esc+a: 往上新增一個 cell\n",
    "    * esc+b: 往下新增一個 cell\n",
    "    * esc+d+d (d 按兩次): 刪除 cell"
   ]
  },
  {
   "cell_type": "code",
   "execution_count": null,
   "metadata": {
    "collapsed": true
   },
   "outputs": [],
   "source": [
    "# 範例網頁: \"https://jimmy15923.github.io/example_page\"\n",
    "# 1. import 需要的套件\n",
    "import requests\n",
    "from bs4 import BeautifulSoup\n",
    "\n",
    "# 2. 發送 requests.get，並將結果存在 response (或自己定義喜歡的變數也可以)\n",
    "# your codes\n",
    "\n",
    "\n",
    "# 3. 將 response 的 HTML 文字放進 BeautifulSoup，並將結果存在 soup (或自己定義喜歡的變數也可以)\n",
    "# your codes\n"
   ]
  },
  {
   "cell_type": "markdown",
   "metadata": {},
   "source": [
    "Q1. 請計算範例網頁中，共含有幾個名為 \"td\" 的標籤 (tags)?\n",
    "\n",
    "Hint: Python 的 len() 函數可以幫忙計算 list 的長度。\n",
    "e.g. len([1,1,1]) 會回傳 3"
   ]
  },
  {
   "cell_type": "code",
   "execution_count": null,
   "metadata": {
    "collapsed": true
   },
   "outputs": [],
   "source": [
    "# your codes\n"
   ]
  },
  {
   "cell_type": "markdown",
   "metadata": {},
   "source": [
    "Q2. 請找出**標籤 div，屬性 id = \"id1\"** 的文字內容?"
   ]
  },
  {
   "cell_type": "code",
   "execution_count": null,
   "metadata": {
    "collapsed": true
   },
   "outputs": [],
   "source": [
    "# your codes\n"
   ]
  },
  {
   "cell_type": "markdown",
   "metadata": {},
   "source": [
    "Q3. 請找出**列3欄3**背後的超連結網址? (請使用右鍵→檢查 來找到列3欄3的標籤，不要偷偷從網頁點開連結來看喔^^)"
   ]
  },
  {
   "cell_type": "code",
   "execution_count": null,
   "metadata": {
    "collapsed": true
   },
   "outputs": [],
   "source": [
    "# your codes\n"
   ]
  }
 ],
 "metadata": {
  "anaconda-cloud": {},
  "kernelspec": {
   "display_name": "Python 3",
   "language": "python",
   "name": "python3"
  },
  "language_info": {
   "codemirror_mode": {
    "name": "ipython",
    "version": 3
   },
   "file_extension": ".py",
   "mimetype": "text/x-python",
   "name": "python",
   "nbconvert_exporter": "python",
   "pygments_lexer": "ipython3",
   "version": "3.6.1"
  }
 },
 "nbformat": 4,
 "nbformat_minor": 1
}
