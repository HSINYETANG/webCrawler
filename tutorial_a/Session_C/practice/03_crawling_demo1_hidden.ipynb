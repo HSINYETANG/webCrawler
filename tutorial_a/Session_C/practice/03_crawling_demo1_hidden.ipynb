{
 "cells": [
  {
   "cell_type": "code",
   "execution_count": null,
   "metadata": {
    "collapsed": true
   },
   "outputs": [],
   "source": [
    "import requests\n",
    "from bs4 import BeautifulSoup\n",
    "from urllib.parse import urljoin\n",
    "\n",
    "wait_list = ['https://afuntw.github.io/demo-crawling/demo-page/ex1/index1.html']\n",
    "h1_answer = []\n",
    "\n",
    "# 當 wait list 裏面還有網址發生的情況\n",
    "while wait_list != []:\n",
    "\n",
    "    # 取出 wait list 裏面的第一個網址\n",
    "    url = \n",
    "    response = requests.get(url)\n",
    "    soup = BeautifulSoup(response.text, 'lxml')\n",
    "    print('Current URL: {}'.format(url))\n",
    "\n",
    "    # 取得當前頁面中的 h1 tag 並將結果存入 h1_answer\n",
    "    h1 = soup.find_all('h1')\n",
    "    for tag in h1:\n",
    "        \n",
    "\n",
    "    # 取得頁面中的 a tag\n",
    "    links = \n",
    "    for link in links:\n",
    "\n",
    "        # 透過 urljoin 確認超連結是絕對位置\n",
    "        new_url = urljoin()\n",
    "\n",
    "        # 將新發現的超連結存入 wait list\n",
    "        \n",
    "\n",
    "    print('Get h1 tags: {}'.format(h1_answer))\n",
    "    print('URL wait list: {}'.format(wait_list))\n",
    "    print()\n"
   ]
  }
 ],
 "metadata": {
  "kernelspec": {
   "display_name": "Python 3",
   "language": "python",
   "name": "python3"
  },
  "language_info": {
   "codemirror_mode": {
    "name": "ipython",
    "version": 3
   },
   "file_extension": ".py",
   "mimetype": "text/x-python",
   "name": "python",
   "nbconvert_exporter": "python",
   "pygments_lexer": "ipython3",
   "version": "3.5.2"
  }
 },
 "nbformat": 4,
 "nbformat_minor": 2
}
