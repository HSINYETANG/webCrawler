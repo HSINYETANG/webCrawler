{
 "cells": [
  {
   "cell_type": "code",
   "execution_count": null,
   "metadata": {
    "collapsed": true
   },
   "outputs": [],
   "source": [
    "import requests\n",
    "from bs4 import BeautifulSoup\n",
    "from urllib.request import build_opener\n",
    "from urllib.request import install_opener\n",
    "from urllib.request import urlretrieve\n",
    "\n",
    "# 取得目標網頁\n",
    "response = requests.get('https://gushi.tw/hu-shih-memorial-hall/')\n",
    "\n",
    "# 透過 Beautifulsoup 解析網頁\n",
    "soup = BeautifulSoup(response.text, 'lxml')\n",
    "\n",
    "# 取得所有的圖片 tag\n",
    "image = # 請透過 Beautifulsoup 找到所有的圖片 tag\n",
    "\n",
    "# 檢查第一個 img tag\n",
    "print(u'圖片 tag:')\n",
    "print(image[0].prettify())\n",
    "\n",
    "# 增加 opener 偽裝成瀏覽器發送請求\n",
    "opener = build_opener()\n",
    "opener.addheaders = # 請尋找自己的 User-Agent 並填入\n",
    "install_opener(opener)\n",
    "\n",
    "# 下載圖片\n",
    "urlretrieve(, ) # 請填入要下載的圖片位置與存檔的檔案名稱\n"
   ]
  }
 ],
 "metadata": {
  "kernelspec": {
   "display_name": "Python 3",
   "language": "python",
   "name": "python3"
  },
  "language_info": {
   "codemirror_mode": {
    "name": "ipython",
    "version": 3
   },
   "file_extension": ".py",
   "mimetype": "text/x-python",
   "name": "python",
   "nbconvert_exporter": "python",
   "pygments_lexer": "ipython3",
   "version": "3.5.2"
  }
 },
 "nbformat": 4,
 "nbformat_minor": 2
}
