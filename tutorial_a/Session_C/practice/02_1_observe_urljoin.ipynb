{
 "cells": [
  {
   "cell_type": "code",
   "execution_count": null,
   "metadata": {
    "collapsed": true
   },
   "outputs": [],
   "source": [
    "import re\n",
    "import requests\n",
    "\n",
    "from bs4 import BeautifulSoup\n",
    "from urllib.parse import urlparse\n",
    "from urllib.parse import urljoin\n",
    "\n",
    "url = 'http://140.112.115.12/exam/graduate'\n",
    "response = requests.get(url)\n",
    "soup = BeautifulSoup(response.text, 'lxml')\n",
    "\n",
    "# 取得所有 img tag 中 src 符合 application-pdf.png 片段的\n",
    "images = \n",
    "\n",
    "# 查看網頁網址的拆解片段\n",
    "print('original url: {}'.format(response.url))\n",
    "print('urlparse url: {}'.format(urlparse(response.url)))\n",
    "print()\n",
    "\n",
    "# 查看第 1 張圖片網址的拆解片段\n",
    "image_url = \n",
    "print('original url: {}'.format(image_url))\n",
    "print('urlparse url: {}'.format(urlparse(image_url)))\n",
    "print()\n",
    "\n",
    "# 取得絕對路徑\n",
    "print(urljoin(response.url, image_url))\n",
    "# print(urljoin(response.url, '106g/'))\n",
    "# print(urljoin(response.url, '/106g/'))\n",
    "# print(urljoin(response.url, '//facebook.com'))\n",
    "# print(urljoin(response.url, '../'))\n",
    "# print(urljoin(response.url, '../../'))\n"
   ]
  }
 ],
 "metadata": {
  "kernelspec": {
   "display_name": "Python 3",
   "language": "python",
   "name": "python3"
  },
  "language_info": {
   "codemirror_mode": {
    "name": "ipython",
    "version": 3
   },
   "file_extension": ".py",
   "mimetype": "text/x-python",
   "name": "python",
   "nbconvert_exporter": "python",
   "pygments_lexer": "ipython3",
   "version": "3.5.2"
  }
 },
 "nbformat": 4,
 "nbformat_minor": 2
}
