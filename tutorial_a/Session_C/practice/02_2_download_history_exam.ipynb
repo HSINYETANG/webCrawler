{
 "cells": [
  {
   "cell_type": "code",
   "execution_count": null,
   "metadata": {
    "collapsed": true
   },
   "outputs": [],
   "source": [
    "import re\n",
    "import requests\n",
    "\n",
    "from bs4 import BeautifulSoup\n",
    "from urllib.parse import urljoin\n",
    "from urllib.request import urlretrieve\n",
    "\n",
    "# 顯示進度的 callback\n",
    "def check_percentage(chunk, chunk_size, remote_size):\n",
    "    percentage = 100.0 * chunk * chunk_size / remote_size\n",
    "    if percentage > 100.0:\n",
    "        percentage = 100.0\n",
    "    print('Download...{:.2f}%'.format(percentage))\n",
    "\n",
    "url = 'http://140.112.115.12/exam/graduate'\n",
    "response = requests.get(url)\n",
    "soup = BeautifulSoup(response.text, 'lxml')\n",
    "\n",
    "# 取得所有 img tag 中 src 符合 application-pdf.png 片段的\n",
    "images = \n",
    "\n",
    "for image in images:\n",
    "    # 將相對路徑轉換成絕對路徑\n",
    "    real_url = \n",
    "\n",
    "    # 做字串處理取得檔名\n",
    "    filename = \n",
    "\n",
    "   # 下載檔案\n",
    "    print('Download file: {}'.format(filename))\n",
    "    urlretrieve( )\n"
   ]
  }
 ],
 "metadata": {
  "kernelspec": {
   "display_name": "Python 3",
   "language": "python",
   "name": "python3"
  },
  "language_info": {
   "codemirror_mode": {
    "name": "ipython",
    "version": 3
   },
   "file_extension": ".py",
   "mimetype": "text/x-python",
   "name": "python",
   "nbconvert_exporter": "python",
   "pygments_lexer": "ipython3",
   "version": "3.5.2"
  }
 },
 "nbformat": 4,
 "nbformat_minor": 2
}
