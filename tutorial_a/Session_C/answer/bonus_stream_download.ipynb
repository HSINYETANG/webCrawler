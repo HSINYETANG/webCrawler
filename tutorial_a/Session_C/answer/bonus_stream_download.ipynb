{
 "cells": [
  {
   "cell_type": "code",
   "execution_count": 1,
   "metadata": {},
   "outputs": [
    {
     "name": "stdout",
     "output_type": "stream",
     "text": [
      "Downloaded: rqCqA.jpeg\n"
     ]
    }
   ],
   "source": [
    "import requests\n",
    "from urllib.request import urlretrieve\n",
    "from PIL import Image\n",
    "\n",
    "\n",
    "def main():\n",
    "    url = 'http://imgur.com/rqCqA.png'\n",
    "    image = Image.open(requests.get(url, stream=True).raw)\n",
    "\n",
    "    remote_filename = url.split('/')[-1]\n",
    "    filename, ext = remote_filename.split('.')\n",
    "    saved_filename = '{}.{}'.format(filename, image.format.lower())\n",
    "\n",
    "    with open(saved_filename, 'wb') as f:\n",
    "        _ = requests.get(url, stream=True)\n",
    "        for block in _.iter_content(512):\n",
    "            if not block: break\n",
    "            f.write(block)\n",
    "        print('Downloaded: {}'.format(saved_filename))\n",
    "\n",
    "\n",
    "if __name__ == '__main__':\n",
    "    main()"
   ]
  }
 ],
 "metadata": {
  "kernelspec": {
   "display_name": "Python 3",
   "language": "python",
   "name": "python3"
  },
  "language_info": {
   "codemirror_mode": {
    "name": "ipython",
    "version": 3
   },
   "file_extension": ".py",
   "mimetype": "text/x-python",
   "name": "python",
   "nbconvert_exporter": "python",
   "pygments_lexer": "ipython3",
   "version": "3.5.2"
  }
 },
 "nbformat": 4,
 "nbformat_minor": 2
}
