{
 "cells": [
  {
   "cell_type": "code",
   "execution_count": 1,
   "metadata": {},
   "outputs": [
    {
     "name": "stdout",
     "output_type": "stream",
     "text": [
      "download wpTmxjw.jpeg\n",
      "download VkCS4Pi.jpeg\n",
      "download oHA8AfB.jpeg\n",
      "download 0Qw3cEa.jpeg\n",
      "download XhbEvgk.jpeg\n",
      "download 0Ey0pGI.jpeg\n",
      "download uimtES3.jpeg\n",
      "download Mh8OkHc.jpeg\n",
      "download 4gCC9Si.jpeg\n",
      "download Dwl7VCY.jpeg\n",
      "download X8R8XPs.jpeg\n",
      "download Cw82MGr.jpeg\n",
      "download wFs742G.jpeg\n",
      "download waBINmB.jpeg\n",
      "download Cum69tf.jpeg\n",
      "download BTtiT0x.jpeg\n",
      "download xz78pmz.jpeg\n"
     ]
    }
   ],
   "source": [
    "import re\n",
    "import requests\n",
    "from bs4 import BeautifulSoup\n",
    "from PIL import Image\n",
    "from pprint import pprint\n",
    "\n",
    "\n",
    "def download_image(url):\n",
    "    image = Image.open(requests.get(url, stream=True).raw)\n",
    "    remote_filename = url.split('/')[-1]\n",
    "    filename, ext = remote_filename.split('.')\n",
    "    saved_filename = '{}.{}'.format(filename, image.format.lower())\n",
    "\n",
    "    print('download {}'.format(saved_filename))\n",
    "    with open(saved_filename, 'wb') as f:\n",
    "        _ = requests.get(url, stream=True)\n",
    "        for block in _.iter_content(512):\n",
    "            if not block: break\n",
    "            f.write(block)\n",
    "\n",
    "def main():\n",
    "    url = 'https://www.ptt.cc/bbs/Beauty/M.1501931019.A.AD8.html'\n",
    "    response = requests.get(url)\n",
    "    soup = BeautifulSoup(response.text, 'lxml')\n",
    "    links = soup.find_all('a', attrs={'href': True})\n",
    "\n",
    "    for link in links:\n",
    "        if re.search('i\\.imgur\\.com', link['href']):\n",
    "            download_image(link['href'])\n",
    "\n",
    "if __name__ == '__main__':\n",
    "    main()"
   ]
  }
 ],
 "metadata": {
  "kernelspec": {
   "display_name": "Python 3",
   "language": "python",
   "name": "python3"
  },
  "language_info": {
   "codemirror_mode": {
    "name": "ipython",
    "version": 3
   },
   "file_extension": ".py",
   "mimetype": "text/x-python",
   "name": "python",
   "nbconvert_exporter": "python",
   "pygments_lexer": "ipython3",
   "version": "3.5.2"
  }
 },
 "nbformat": 4,
 "nbformat_minor": 2
}
