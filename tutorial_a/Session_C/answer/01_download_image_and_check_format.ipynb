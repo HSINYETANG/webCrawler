{
 "cells": [
  {
   "cell_type": "code",
   "execution_count": 1,
   "metadata": {},
   "outputs": [
    {
     "name": "stdout",
     "output_type": "stream",
     "text": [
      "url: http://imgur.com/rqCqA.png\n",
      "get image format: JPEG\n",
      "split url by \"/\": ['http:', '', 'imgur.com', 'rqCqA.png']\n",
      "filename:  rqCqA.png\n",
      "split filename by \".\": ['rqCqA', 'png']\n",
      "filename: rqCqA\n",
      "concate filename: rqCqA.jpeg\n"
     ]
    },
    {
     "data": {
      "text/plain": [
       "('rqCqA.jpeg', <http.client.HTTPMessage at 0x7f2dd40f4dd8>)"
      ]
     },
     "execution_count": 1,
     "metadata": {},
     "output_type": "execute_result"
    }
   ],
   "source": [
    "import requests\n",
    "\n",
    "from PIL import Image\n",
    "from urllib.request import urlretrieve\n",
    "\n",
    "# 透過 streaming 的方式取得圖片\n",
    "url = 'http://imgur.com/rqCqA.png'\n",
    "response = requests.get(url, stream=True)\n",
    "print('url:', url)\n",
    "\n",
    "# 根據 Image.open 所需格式讀取圖片, 並取得圖片副檔名\n",
    "image = Image.open(response.raw)\n",
    "print('get image format:', image.format)\n",
    "\n",
    "# 根據 '/' 將網址分段\n",
    "split_url = url.split('/')\n",
    "print('split url by \"/\":', split_url)\n",
    "\n",
    "# 從分段的網址中取得原始檔案名稱\n",
    "orig_filename = split_url[-1]\n",
    "print('filename: ', orig_filename)\n",
    "\n",
    "# 從原始檔案名稱中根據 '.' 分成檔名跟副檔名\n",
    "split_filename = orig_filename.split('.')\n",
    "print('split filename by \".\":', split_filename)\n",
    "\n",
    "# 取得原始檔名\n",
    "filename = split_filename[0]\n",
    "print('filename:', filename)\n",
    "\n",
    "# 組合原始檔名與正確的副檔名\n",
    "download_filename = '{}.{}'.format(filename, image.format.lower())\n",
    "print('concate filename:', download_filename)\n",
    "\n",
    "# 下載圖片\n",
    "urlretrieve(url, download_filename)\n",
    "\n",
    "\n",
    "# # BONUS: 不透過 stream 讓 Image 讀圖片的方式\n",
    "# from io import BytesIO\n",
    "# # 取得圖片\n",
    "# url = 'http://imgur.com/rqCqA.png'\n",
    "# response = requests.get(url)\n",
    "# # 根據 Image.open 所需格式讀取圖片, 並取得圖片副檔名\n",
    "# image = Image.open(BytesIO(response.content))\n",
    "# print(image.format)\n"
   ]
  }
 ],
 "metadata": {
  "kernelspec": {
   "display_name": "Python 3",
   "language": "python",
   "name": "python3"
  },
  "language_info": {
   "codemirror_mode": {
    "name": "ipython",
    "version": 3
   },
   "file_extension": ".py",
   "mimetype": "text/x-python",
   "name": "python",
   "nbconvert_exporter": "python",
   "pygments_lexer": "ipython3",
   "version": "3.5.2"
  }
 },
 "nbformat": 4,
 "nbformat_minor": 2
}
