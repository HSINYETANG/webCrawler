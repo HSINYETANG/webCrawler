{
 "cells": [
  {
   "cell_type": "code",
   "execution_count": 1,
   "metadata": {},
   "outputs": [
    {
     "name": "stdout",
     "output_type": "stream",
     "text": [
      "Current URL: https://afuntw.github.io/demo-crawling/demo-page/ex1/index1.html\n",
      "Get h1 tags: ['頁面 1 - Home']\n",
      "URL wait list: ['https://afuntw.github.io/demo-crawling/demo-page/ex1/index2.html', 'https://afuntw.github.io/demo-crawling/demo-page/ex1/index3.html']\n",
      "\n",
      "Current URL: https://afuntw.github.io/demo-crawling/demo-page/ex1/index2.html\n",
      "Get h1 tags: ['頁面 1 - Home', '頁面 2 - About']\n",
      "URL wait list: ['https://afuntw.github.io/demo-crawling/demo-page/ex1/index3.html']\n",
      "\n",
      "Current URL: https://afuntw.github.io/demo-crawling/demo-page/ex1/index3.html\n",
      "Get h1 tags: ['頁面 1 - Home', '頁面 2 - About', '頁面 3 - Contact']\n",
      "URL wait list: ['https://afuntw.github.io/demo-crawling/demo-page/ex1/hidden.html']\n",
      "\n",
      "Current URL: https://afuntw.github.io/demo-crawling/demo-page/ex1/hidden.html\n",
      "Get h1 tags: ['頁面 1 - Home', '頁面 2 - About', '頁面 3 - Contact', '頁面 4 - Hidden page']\n",
      "URL wait list: []\n",
      "\n"
     ]
    }
   ],
   "source": [
    "import requests\n",
    "from bs4 import BeautifulSoup\n",
    "from urllib.parse import urljoin\n",
    "\n",
    "wait_list = ['https://afuntw.github.io/demo-crawling/demo-page/ex1/index1.html']\n",
    "h1_answer = []\n",
    "\n",
    "# 當 wait list 裏面還有網址發生的情況\n",
    "while wait_list != []:\n",
    "\n",
    "    # 取出 wait list 裏面的第一個網址\n",
    "    url = wait_list.pop(0)\n",
    "    response = requests.get(url)\n",
    "    soup = BeautifulSoup(response.text, 'lxml')\n",
    "    print('Current URL: {}'.format(url))\n",
    "\n",
    "    # 取得當前頁面中的 h1 tag 並將結果存入 h1_answer\n",
    "    h1 = soup.find_all('h1')\n",
    "    for tag in h1:\n",
    "        h1_answer.append(tag.text)\n",
    "\n",
    "    # 取得頁面中的 a tag\n",
    "    links = soup.find_all('a', href=True)\n",
    "    for link in links:\n",
    "\n",
    "        # 透過 urljoin 確認超連結是絕對位置\n",
    "        new_url = urljoin(url, link['href'])\n",
    "\n",
    "        # 將新發現的超連結存入 wait list\n",
    "        wait_list.append(new_url)\n",
    "\n",
    "    print('Get h1 tags: {}'.format(h1_answer))\n",
    "    print('URL wait list: {}'.format(wait_list))\n",
    "    print()\n"
   ]
  }
 ],
 "metadata": {
  "kernelspec": {
   "display_name": "Python 3",
   "language": "python",
   "name": "python3"
  },
  "language_info": {
   "codemirror_mode": {
    "name": "ipython",
    "version": 3
   },
   "file_extension": ".py",
   "mimetype": "text/x-python",
   "name": "python",
   "nbconvert_exporter": "python",
   "pygments_lexer": "ipython3",
   "version": "3.5.2"
  }
 },
 "nbformat": 4,
 "nbformat_minor": 2
}
