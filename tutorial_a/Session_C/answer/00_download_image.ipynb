{
 "cells": [
  {
   "cell_type": "code",
   "execution_count": 2,
   "metadata": {},
   "outputs": [
    {
     "name": "stdout",
     "output_type": "stream",
     "text": [
      "圖片 tag:\n",
      "<img alt=\"logo\" class=\"img-responsive\" height=\"1\" src=\"http://gushi.tw/wp-content/uploads/2016/08/logo.png\" width=\"1\"/>\n",
      "\n"
     ]
    },
    {
     "data": {
      "text/plain": [
       "('logo.png', <http.client.HTTPMessage at 0x7fb5cc972c18>)"
      ]
     },
     "execution_count": 2,
     "metadata": {},
     "output_type": "execute_result"
    }
   ],
   "source": [
    "import requests\n",
    "from bs4 import BeautifulSoup\n",
    "from urllib.request import build_opener\n",
    "from urllib.request import install_opener\n",
    "from urllib.request import urlretrieve\n",
    "\n",
    "# 取得目標網頁\n",
    "response = requests.get('https://gushi.tw/hu-shih-memorial-hall/')\n",
    "\n",
    "# 透過 Beautifulsoup 解析網頁\n",
    "soup = BeautifulSoup(response.text, 'lxml')\n",
    "\n",
    "# 取得所有的圖片 tag\n",
    "image = soup.find_all('img')\n",
    "\n",
    "# 檢查第一個 img tag\n",
    "print(u'圖片 tag:')\n",
    "print(image[0].prettify())\n",
    "\n",
    "# 增加 opener 偽裝成瀏覽器發送請求\n",
    "opener = build_opener()\n",
    "opener.addheaders = [('User-Agent', 'Mozilla/5.0 (X11; Linux x86_64) AppleWebKit/537.36 (KHTML, like Gecko) Chrome/60.0.3112.78 Safari/537.36')]\n",
    "install_opener(opener)\n",
    "\n",
    "# 下載圖片\n",
    "urlretrieve(image[0]['src'], 'logo.png')"
   ]
  }
 ],
 "metadata": {
  "kernelspec": {
   "display_name": "Python 3",
   "language": "python",
   "name": "python3"
  },
  "language_info": {
   "codemirror_mode": {
    "name": "ipython",
    "version": 3
   },
   "file_extension": ".py",
   "mimetype": "text/x-python",
   "name": "python",
   "nbconvert_exporter": "python",
   "pygments_lexer": "ipython3",
   "version": "3.5.2"
  }
 },
 "nbformat": 4,
 "nbformat_minor": 2
}
