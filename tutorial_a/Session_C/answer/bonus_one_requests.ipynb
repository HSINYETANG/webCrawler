{
 "cells": [
  {
   "cell_type": "code",
   "execution_count": 1,
   "metadata": {},
   "outputs": [
    {
     "name": "stdout",
     "output_type": "stream",
     "text": [
      "download rqCqA.jpeg\n"
     ]
    }
   ],
   "source": [
    "import re\n",
    "import requests\n",
    "from PIL import Image\n",
    "\n",
    "def download_image(url):\n",
    "    response = requests.get(url, stream=True)\n",
    "    image = Image.open(response.raw)\n",
    "    remote_filename = url.split('/')[-1]\n",
    "    filename, ext = remote_filename.split('.')\n",
    "    saved_filename = '{}.{}'.format(filename, image.format.lower())\n",
    "\n",
    "    print('download {}'.format(saved_filename))\n",
    "    image.save(saved_filename)\n",
    "\n",
    "def main():\n",
    "    url = 'http://imgur.com/rqCqA.png'\n",
    "    download_image(url)\n",
    "\n",
    "\n",
    "if __name__ == '__main__':\n",
    "    main()\n"
   ]
  }
 ],
 "metadata": {
  "kernelspec": {
   "display_name": "Python 3",
   "language": "python",
   "name": "python3"
  },
  "language_info": {
   "codemirror_mode": {
    "name": "ipython",
    "version": 3
   },
   "file_extension": ".py",
   "mimetype": "text/x-python",
   "name": "python",
   "nbconvert_exporter": "python",
   "pygments_lexer": "ipython3",
   "version": "3.5.2"
  }
 },
 "nbformat": 4,
 "nbformat_minor": 2
}
