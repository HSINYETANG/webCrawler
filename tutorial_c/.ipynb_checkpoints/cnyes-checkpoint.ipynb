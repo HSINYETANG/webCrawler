{
 "cells": [
  {
   "cell_type": "markdown",
   "metadata": {},
   "source": [
    "### 鉅亨網 基金爬蟲"
   ]
  },
  {
   "cell_type": "code",
   "execution_count": 7,
   "metadata": {
    "collapsed": true
   },
   "outputs": [],
   "source": [
    "import requests\n",
    "import json\n",
    "import time\n",
    "import os\n",
    "from bs4 import BeautifulSoup\n",
    "# import pprint"
   ]
  },
  {
   "cell_type": "code",
   "execution_count": null,
   "metadata": {
    "collapsed": true
   },
   "outputs": [],
   "source": [
    "https://fund.cnyes.com/api/v1/search/fund?order=priceDate&sort=desc&page=1&institutional=0&fields=categoryAbbr,change,classCurrencyLocal,cnyesId,displayNameLocal,displayNameLocalWithKwd,forSale,forSale,inceptionDate,investmentArea,lastUpdate,nav,prevPrice,priceDate,return1Day,return1Month"
   ]
  },
  {
   "cell_type": "code",
   "execution_count": null,
   "metadata": {
    "collapsed": true
   },
   "outputs": [],
   "source": [
    "https://fund.cnyes.com/api/v1/search/fund?order=priceDate&sort=desc&page=2&institutional=0&fields=categoryAbbr,change,classCurrencyLocal,cnyesId,displayNameLocal,displayNameLocalWithKwd,forSale,forSale,inceptionDate,investmentArea,lastUpdate,nav,prevPrice,priceDate,return1Day,return1Month"
   ]
  },
  {
   "cell_type": "code",
   "execution_count": 13,
   "metadata": {
    "collapsed": true
   },
   "outputs": [],
   "source": [
    "website = 'https://fund.cnyes.com/api/v1/search/fund?order=priceDate&sort=desc&page=1&institutional=0&fields=categoryAbbr,change,classCurrencyLocal,cnyesId,displayNameLocal,displayNameLocalWithKwd,forSale,forSale,inceptionDate,investmentArea,lastUpdate,nav,prevPrice,priceDate,return1Day,return1Month'\n",
    "res = requests.get(website)\n",
    "content = res.text\n",
    "# res = requests.get(website, headers = headers)"
   ]
  },
  {
   "cell_type": "code",
   "execution_count": 16,
   "metadata": {
    "collapsed": true
   },
   "outputs": [],
   "source": [
    "data = json.loads(content)"
   ]
  },
  {
   "cell_type": "code",
   "execution_count": 48,
   "metadata": {},
   "outputs": [
    {
     "data": {
      "text/plain": [
       "20"
      ]
     },
     "execution_count": 48,
     "metadata": {},
     "output_type": "execute_result"
    }
   ],
   "source": [
    "len(data['items']['data'])"
   ]
  },
  {
   "cell_type": "code",
   "execution_count": 58,
   "metadata": {
    "collapsed": true
   },
   "outputs": [],
   "source": [
    "fundlist = []\n",
    "for pageNum in range(1, 284+1):\n",
    "# for pageNum in range(284, 285):\n",
    "    website = 'https://fund.cnyes.com/api/v1/search/fund?order=priceDate&sort=desc&page='+str(pageNum)+'&institutional=0&fields=categoryAbbr,change,classCurrencyLocal,cnyesId,displayNameLocal,displayNameLocalWithKwd,forSale,forSale,inceptionDate,investmentArea,lastUpdate,nav,prevPrice,priceDate,return1Day,return1Month'\n",
    "    res = requests.get(website)\n",
    "    content = res.text\n",
    "    data = json.loads(content)\n",
    "    row = []\n",
    "    for pageLen in range(0, len(data['items']['data'])):\n",
    "        time.sleep(1)\n",
    "        row.append(data['items']['data'][pageLen]['cnyesId'])\n",
    "        row.append(data['items']['data'][pageLen]['classCurrencyLocal'])\n",
    "        row.append(data['items']['data'][pageLen]['displayNameLocal'])\n",
    "        row.append(data['items']['data'][pageLen]['investmentArea'])\n",
    "        fundlist.append(row)"
   ]
  },
  {
   "cell_type": "code",
   "execution_count": 61,
   "metadata": {},
   "outputs": [
    {
     "data": {
      "text/plain": [
       "5680"
      ]
     },
     "execution_count": 61,
     "metadata": {},
     "output_type": "execute_result"
    }
   ],
   "source": [
    "len(fundlist)"
   ]
  },
  {
   "cell_type": "code",
   "execution_count": 52,
   "metadata": {},
   "outputs": [
    {
     "name": "stdout",
     "output_type": "stream",
     "text": [
      "A11007\n",
      "新台幣\n",
      "摩根第一貨幣市場基金\n",
      "台灣\n"
     ]
    }
   ],
   "source": [
    "\n",
    "print(data['items']['data'][0]['cnyesId'])\n",
    "print(data['items']['data'][0]['classCurrencyLocal'])\n",
    "print(data['items']['data'][0]['displayNameLocal'])\n",
    "print(data['items']['data'][0]['investmentArea'])"
   ]
  },
  {
   "cell_type": "code",
   "execution_count": 21,
   "metadata": {},
   "outputs": [
    {
     "data": {
      "text/plain": [
       "{'items': {'current_page': 1,\n",
       "  'data': [{'categoryAbbr': '貨幣市場 - 新台幣',\n",
       "    'change': 0.0003,\n",
       "    'classCurrencyLocal': '新台幣',\n",
       "    'cnyesId': 'A11007',\n",
       "    'displayNameLocal': '摩根第一貨幣市場基金',\n",
       "    'displayNameLocalWithKwd': 0,\n",
       "    'forSale': 0,\n",
       "    'forSaleUrl': '',\n",
       "    'fundYesId': None,\n",
       "    'inceptionDate': 845308800,\n",
       "    'investmentArea': '台灣',\n",
       "    'lastUpdate': 1521993600,\n",
       "    'nav': 15.0594,\n",
       "    'prevPrice': 15.0591,\n",
       "    'priceDate': 1521993600,\n",
       "    'return1Day': 0.00199,\n",
       "    'return1Month': 0.02258},\n",
       "   {'categoryAbbr': '歐洲股票',\n",
       "    'change': -0.37,\n",
       "    'classCurrencyLocal': '歐元',\n",
       "    'cnyesId': 'B16,009',\n",
       "    'displayNameLocal': '景順全歐洲企業基金A股 歐元',\n",
       "    'displayNameLocalWithKwd': 0,\n",
       "    'forSale': 1,\n",
       "    'forSaleUrl': 'https://www.fundsyes.com/Redr/Redr.aspx?FundID=B16009',\n",
       "    'fundYesId': 'B16009',\n",
       "    'inceptionDate': 662745600,\n",
       "    'investmentArea': '歐洲(含歐元區)',\n",
       "    'lastUpdate': 1521734400,\n",
       "    'nav': 24.47,\n",
       "    'prevPrice': 24.84,\n",
       "    'priceDate': 1521734400,\n",
       "    'return1Day': -1.48953,\n",
       "    'return1Month': -2.74245},\n",
       "   {'categoryAbbr': '歐洲股票',\n",
       "    'change': -0.39,\n",
       "    'classCurrencyLocal': '歐元',\n",
       "    'cnyesId': 'B16,013',\n",
       "    'displayNameLocal': '景順泛歐洲基金A股 歐元',\n",
       "    'displayNameLocalWithKwd': 0,\n",
       "    'forSale': 1,\n",
       "    'forSaleUrl': 'https://www.fundsyes.com/Redr/Redr.aspx?FundID=B16013',\n",
       "    'fundYesId': 'B16013',\n",
       "    'inceptionDate': 662659200,\n",
       "    'investmentArea': '歐洲(含歐元區)',\n",
       "    'lastUpdate': 1521734400,\n",
       "    'nav': 19.88,\n",
       "    'prevPrice': 20.27,\n",
       "    'priceDate': 1521734400,\n",
       "    'return1Day': -1.92403,\n",
       "    'return1Month': -3.72881},\n",
       "   {'categoryAbbr': '歐洲股票',\n",
       "    'change': -0.43,\n",
       "    'classCurrencyLocal': '歐元',\n",
       "    'cnyesId': 'B16,057',\n",
       "    'displayNameLocal': '景順泛歐洲基金C股 歐元',\n",
       "    'displayNameLocalWithKwd': 0,\n",
       "    'forSale': 0,\n",
       "    'forSaleUrl': '',\n",
       "    'fundYesId': None,\n",
       "    'inceptionDate': 934128000,\n",
       "    'investmentArea': '歐洲(含歐元區)',\n",
       "    'lastUpdate': 1521734400,\n",
       "    'nav': 22.01,\n",
       "    'prevPrice': 22.44,\n",
       "    'priceDate': 1521734400,\n",
       "    'return1Day': -1.91622,\n",
       "    'return1Month': -3.71829},\n",
       "   {'categoryAbbr': '產業股票 - 消費品及服務',\n",
       "    'change': -0.79,\n",
       "    'classCurrencyLocal': '美元',\n",
       "    'cnyesId': 'B16,019',\n",
       "    'displayNameLocal': '景順消閒基金A股 美元',\n",
       "    'displayNameLocalWithKwd': 0,\n",
       "    'forSale': 1,\n",
       "    'forSaleUrl': 'https://www.fundsyes.com/Redr/Redr.aspx?FundID=B16019',\n",
       "    'fundYesId': 'B16019',\n",
       "    'inceptionDate': 781113600,\n",
       "    'investmentArea': '全球市場',\n",
       "    'lastUpdate': 1521734400,\n",
       "    'nav': 55.36,\n",
       "    'prevPrice': 56.15,\n",
       "    'priceDate': 1521734400,\n",
       "    'return1Day': -1.40695,\n",
       "    'return1Month': -2.36332},\n",
       "   {'categoryAbbr': '大中華股票',\n",
       "    'change': -1.56,\n",
       "    'classCurrencyLocal': '美元',\n",
       "    'cnyesId': 'B16,137',\n",
       "    'displayNameLocal': '景順大中華基金A股 美元',\n",
       "    'displayNameLocalWithKwd': 0,\n",
       "    'forSale': 1,\n",
       "    'forSaleUrl': 'https://www.fundsyes.com/Redr/Redr.aspx?FundID=B16137',\n",
       "    'fundYesId': 'B16137',\n",
       "    'inceptionDate': 711129600,\n",
       "    'investmentArea': '中國/大中華',\n",
       "    'lastUpdate': 1521734400,\n",
       "    'nav': 65.92,\n",
       "    'prevPrice': 67.48,\n",
       "    'priceDate': 1521734400,\n",
       "    'return1Day': -2.3118,\n",
       "    'return1Month': -3.45636},\n",
       "   {'categoryAbbr': '貨幣市場 - 美元',\n",
       "    'change': 0,\n",
       "    'classCurrencyLocal': '美元',\n",
       "    'cnyesId': 'B16,016',\n",
       "    'displayNameLocal': '景順美元儲備基金A股 美元',\n",
       "    'displayNameLocalWithKwd': 0,\n",
       "    'forSale': 0,\n",
       "    'forSaleUrl': '',\n",
       "    'fundYesId': 'B16016',\n",
       "    'inceptionDate': 662745600,\n",
       "    'investmentArea': '美國',\n",
       "    'lastUpdate': 1521734400,\n",
       "    'nav': 88.11,\n",
       "    'prevPrice': 88.11,\n",
       "    'priceDate': 1521734400,\n",
       "    'return1Day': 0,\n",
       "    'return1Month': 0.09088},\n",
       "   {'categoryAbbr': '產業股票 - 消費品及服務',\n",
       "    'change': -0.86,\n",
       "    'classCurrencyLocal': '美元',\n",
       "    'cnyesId': 'B16,075',\n",
       "    'displayNameLocal': '景順消閒基金C股 美元',\n",
       "    'displayNameLocalWithKwd': 0,\n",
       "    'forSale': 0,\n",
       "    'forSaleUrl': '',\n",
       "    'fundYesId': None,\n",
       "    'inceptionDate': 934128000,\n",
       "    'investmentArea': '全球市場',\n",
       "    'lastUpdate': 1521734400,\n",
       "    'nav': 60.61,\n",
       "    'prevPrice': 61.47,\n",
       "    'priceDate': 1521734400,\n",
       "    'return1Day': -1.39906,\n",
       "    'return1Month': -2.32071},\n",
       "   {'categoryAbbr': '亞洲債券',\n",
       "    'change': 0.0017,\n",
       "    'classCurrencyLocal': '美元',\n",
       "    'cnyesId': 'B23,258',\n",
       "    'displayNameLocal': '施羅德環球基金系列 - 亞洲債券 A 類股份 - 配息單位(美元)',\n",
       "    'displayNameLocalWithKwd': 0,\n",
       "    'forSale': 0,\n",
       "    'forSaleUrl': '',\n",
       "    'fundYesId': None,\n",
       "    'inceptionDate': 908467200,\n",
       "    'investmentArea': '亞洲地區',\n",
       "    'lastUpdate': 1521734400,\n",
       "    'nav': 5.5371,\n",
       "    'prevPrice': 5.5354,\n",
       "    'priceDate': 1521734400,\n",
       "    'return1Day': 0.03071,\n",
       "    'return1Month': -0.00542},\n",
       "   {'categoryAbbr': '貨幣市場 - 美元',\n",
       "    'change': 0.01,\n",
       "    'classCurrencyLocal': '美元',\n",
       "    'cnyesId': 'B16,060',\n",
       "    'displayNameLocal': '景順美元儲備基金C股 美元',\n",
       "    'displayNameLocalWithKwd': 0,\n",
       "    'forSale': 0,\n",
       "    'forSaleUrl': '',\n",
       "    'fundYesId': None,\n",
       "    'inceptionDate': 934128000,\n",
       "    'investmentArea': '美國',\n",
       "    'lastUpdate': 1521734400,\n",
       "    'nav': 91.56,\n",
       "    'prevPrice': 91.55,\n",
       "    'priceDate': 1521734400,\n",
       "    'return1Day': 0.01092,\n",
       "    'return1Month': 0.12028},\n",
       "   {'categoryAbbr': '亞洲債券',\n",
       "    'change': 0.0049,\n",
       "    'classCurrencyLocal': '美元',\n",
       "    'cnyesId': 'B23,286',\n",
       "    'displayNameLocal': '施羅德環球基金系列 - 亞洲債券 C 類股份 - 累積單位(美元)',\n",
       "    'displayNameLocalWithKwd': 0,\n",
       "    'forSale': 0,\n",
       "    'forSaleUrl': '',\n",
       "    'fundYesId': None,\n",
       "    'inceptionDate': 948038400,\n",
       "    'investmentArea': '亞洲地區',\n",
       "    'lastUpdate': 1521734400,\n",
       "    'nav': 15.0102,\n",
       "    'prevPrice': 15.0053,\n",
       "    'priceDate': 1521734400,\n",
       "    'return1Day': 0.03266,\n",
       "    'return1Month': 0.03066},\n",
       "   {'categoryAbbr': '亞洲債券',\n",
       "    'change': 0.0042,\n",
       "    'classCurrencyLocal': '美元',\n",
       "    'cnyesId': 'B23,204',\n",
       "    'displayNameLocal': '施羅德環球基金系列 - 亞洲債券 A 類股份 - 累積單位(美元)',\n",
       "    'displayNameLocalWithKwd': 0,\n",
       "    'forSale': 0,\n",
       "    'forSaleUrl': '',\n",
       "    'fundYesId': None,\n",
       "    'inceptionDate': 948038400,\n",
       "    'investmentArea': '亞洲地區',\n",
       "    'lastUpdate': 1521734400,\n",
       "    'nav': 13.2481,\n",
       "    'prevPrice': 13.2439,\n",
       "    'priceDate': 1521734400,\n",
       "    'return1Day': 0.03171,\n",
       "    'return1Month': -0.00528},\n",
       "   {'categoryAbbr': '亞洲債券',\n",
       "    'change': 0.0024,\n",
       "    'classCurrencyLocal': '美元',\n",
       "    'cnyesId': 'B23,285',\n",
       "    'displayNameLocal': '施羅德環球基金系列 - 亞洲債券 C 類股份 - 配息單位(美元)',\n",
       "    'displayNameLocalWithKwd': 0,\n",
       "    'forSale': 0,\n",
       "    'forSaleUrl': '',\n",
       "    'fundYesId': None,\n",
       "    'inceptionDate': 908812800,\n",
       "    'investmentArea': '亞洲地區',\n",
       "    'lastUpdate': 1521734400,\n",
       "    'nav': 7.3641,\n",
       "    'prevPrice': 7.3617,\n",
       "    'priceDate': 1521734400,\n",
       "    'return1Day': 0.0326,\n",
       "    'return1Month': 0.02988},\n",
       "   {'categoryAbbr': '亞洲股票(不含日本)',\n",
       "    'change': -3.66,\n",
       "    'classCurrencyLocal': '美元',\n",
       "    'cnyesId': 'B16,148',\n",
       "    'displayNameLocal': '景順亞洲機遇股票基金A股 美元',\n",
       "    'displayNameLocalWithKwd': 0,\n",
       "    'forSale': 1,\n",
       "    'forSaleUrl': 'https://www.fundsyes.com/Redr/Redr.aspx?FundID=B16148',\n",
       "    'fundYesId': 'B16148',\n",
       "    'inceptionDate': 934128000,\n",
       "    'investmentArea': '亞洲地區',\n",
       "    'lastUpdate': 1521734400,\n",
       "    'nav': 144.68,\n",
       "    'prevPrice': 148.34,\n",
       "    'priceDate': 1521734400,\n",
       "    'return1Day': -2.4673,\n",
       "    'return1Month': -2.5527},\n",
       "   {'categoryAbbr': '新興市場股票',\n",
       "    'change': -0.2731,\n",
       "    'classCurrencyLocal': '美元',\n",
       "    'cnyesId': 'B23,263',\n",
       "    'displayNameLocal': '施羅德環球基金系列 - 新興市場 A 類股份 - 配息單位(美元)',\n",
       "    'displayNameLocalWithKwd': 0,\n",
       "    'forSale': 0,\n",
       "    'forSaleUrl': '',\n",
       "    'fundYesId': None,\n",
       "    'inceptionDate': 763142400,\n",
       "    'investmentArea': '全球新興市場',\n",
       "    'lastUpdate': 1521734400,\n",
       "    'nav': 14.5677,\n",
       "    'prevPrice': 14.8408,\n",
       "    'priceDate': 1521734400,\n",
       "    'return1Day': -1.8402,\n",
       "    'return1Month': -2.95899},\n",
       "   {'categoryAbbr': '亞洲股票(不含日本)',\n",
       "    'change': -4.05,\n",
       "    'classCurrencyLocal': '美元',\n",
       "    'cnyesId': 'B16,150',\n",
       "    'displayNameLocal': '景順亞洲機遇股票基金C股 美元',\n",
       "    'displayNameLocalWithKwd': 0,\n",
       "    'forSale': 0,\n",
       "    'forSaleUrl': '',\n",
       "    'fundYesId': None,\n",
       "    'inceptionDate': 857318400,\n",
       "    'investmentArea': '亞洲地區',\n",
       "    'lastUpdate': 1521734400,\n",
       "    'nav': 160.26,\n",
       "    'prevPrice': 164.31,\n",
       "    'priceDate': 1521734400,\n",
       "    'return1Day': -2.46485,\n",
       "    'return1Month': -2.50639},\n",
       "   {'categoryAbbr': '日本股票',\n",
       "    'change': -22.9998,\n",
       "    'classCurrencyLocal': '日圓',\n",
       "    'cnyesId': 'B23,203',\n",
       "    'displayNameLocal': '施羅德環球基金系列 - 日本股票 A 類股份 - 累積單位(日幣)',\n",
       "    'displayNameLocalWithKwd': 0,\n",
       "    'forSale': 0,\n",
       "    'forSaleUrl': '',\n",
       "    'fundYesId': None,\n",
       "    'inceptionDate': 948038400,\n",
       "    'investmentArea': '日本',\n",
       "    'lastUpdate': 1521734400,\n",
       "    'nav': 1164.5672,\n",
       "    'prevPrice': 1187.567,\n",
       "    'priceDate': 1521734400,\n",
       "    'return1Day': -1.93672,\n",
       "    'return1Month': -4.01905},\n",
       "   {'categoryAbbr': '日本股票',\n",
       "    'change': -26.951,\n",
       "    'classCurrencyLocal': '日圓',\n",
       "    'cnyesId': 'B23,281',\n",
       "    'displayNameLocal': '施羅德環球基金系列 - 日本股票 C 類股份 - 累積單位(日幣)',\n",
       "    'displayNameLocalWithKwd': 0,\n",
       "    'forSale': 0,\n",
       "    'forSaleUrl': '',\n",
       "    'fundYesId': None,\n",
       "    'inceptionDate': 948038400,\n",
       "    'investmentArea': '日本',\n",
       "    'lastUpdate': 1521734400,\n",
       "    'nav': 1365.7231,\n",
       "    'prevPrice': 1392.6741,\n",
       "    'priceDate': 1521734400,\n",
       "    'return1Day': -1.9352,\n",
       "    'return1Month': -3.97841},\n",
       "   {'categoryAbbr': '新興市場股票',\n",
       "    'change': -0.3177,\n",
       "    'classCurrencyLocal': '美元',\n",
       "    'cnyesId': 'B23,210',\n",
       "    'displayNameLocal': '施羅德環球基金系列 - 新興市場 A 類股份 - 累積單位(美元)',\n",
       "    'displayNameLocalWithKwd': 0,\n",
       "    'forSale': 0,\n",
       "    'forSaleUrl': '',\n",
       "    'fundYesId': None,\n",
       "    'inceptionDate': 948038400,\n",
       "    'investmentArea': '全球新興市場',\n",
       "    'lastUpdate': 1521734400,\n",
       "    'nav': 16.9493,\n",
       "    'prevPrice': 17.267,\n",
       "    'priceDate': 1521734400,\n",
       "    'return1Day': -1.83993,\n",
       "    'return1Month': -2.95887},\n",
       "   {'categoryAbbr': '新興市場股票',\n",
       "    'change': -0.3619,\n",
       "    'classCurrencyLocal': '美元',\n",
       "    'cnyesId': 'B23,294',\n",
       "    'displayNameLocal': '施羅德環球基金系列 - 新興市場 C 類股份 - 累積單位(美元)',\n",
       "    'displayNameLocalWithKwd': 0,\n",
       "    'forSale': 0,\n",
       "    'forSaleUrl': '',\n",
       "    'fundYesId': None,\n",
       "    'inceptionDate': 948038400,\n",
       "    'investmentArea': '全球新興市場',\n",
       "    'lastUpdate': 1521734400,\n",
       "    'nav': 19.3292,\n",
       "    'prevPrice': 19.6911,\n",
       "    'priceDate': 1521734400,\n",
       "    'return1Day': -1.83789,\n",
       "    'return1Month': -2.89957}],\n",
       "  'from': 1,\n",
       "  'last_page': 284,\n",
       "  'next_page_url': '/api/v1/search/fund?fields=categoryAbbr%2Cchange%2CclassCurrencyLocal%2CcnyesId%2CdisplayNameLocal%2CdisplayNameLocalWithKwd%2CforSale%2CforSale%2CinceptionDate%2CinvestmentArea%2ClastUpdate%2Cnav%2CprevPrice%2CpriceDate%2Creturn1Day%2Creturn1Month&institutional=0&order=priceDate&page=2&sort=desc',\n",
       "  'per_page': 20,\n",
       "  'prev_page_url': None,\n",
       "  'to': 20,\n",
       "  'total': 5680},\n",
       " 'message': '成功',\n",
       " 'statusCode': 200}"
      ]
     },
     "execution_count": 21,
     "metadata": {},
     "output_type": "execute_result"
    }
   ],
   "source": [
    "data"
   ]
  },
  {
   "cell_type": "code",
   "execution_count": 14,
   "metadata": {
    "collapsed": true
   },
   "outputs": [],
   "source": [
    "soup = BeautifulSoup(content, 'lxml')"
   ]
  },
  {
   "cell_type": "code",
   "execution_count": 15,
   "metadata": {},
   "outputs": [
    {
     "data": {
      "text/plain": [
       "<html><body><p>{\"items\":{\"total\":5680,\"per_page\":20,\"current_page\":1,\"last_page\":284,\"next_page_url\":\"\\/api\\/v1\\/search\\/fund?fields=categoryAbbr%2Cchange%2CclassCurrencyLocal%2CcnyesId%2CdisplayNameLocal%2CdisplayNameLocalWithKwd%2CforSale%2CforSale%2CinceptionDate%2CinvestmentArea%2ClastUpdate%2Cnav%2CprevPrice%2CpriceDate%2Creturn1Day%2Creturn1Month&amp;institutional=0&amp;order=priceDate&amp;page=2&amp;sort=desc\",\"prev_page_url\":null,\"from\":1,\"to\":20,\"data\":[{\"priceDate\":1521993600,\"inceptionDate\":845308800,\"cnyesId\":\"A11007\",\"forSale\":0,\"investmentArea\":\"\\u53f0\\u7063\",\"lastUpdate\":1521993600,\"change\":0.0003,\"return1Day\":0.00199,\"nav\":15.0594,\"return1Month\":0.02258,\"categoryAbbr\":\"\\u8ca8\\u5e63\\u5e02\\u5834 - \\u65b0\\u53f0\\u5e63\",\"prevPrice\":15.0591,\"classCurrencyLocal\":\"\\u65b0\\u53f0\\u5e63\",\"displayNameLocal\":\"\\u6469\\u6839\\u7b2c\\u4e00\\u8ca8\\u5e63\\u5e02\\u5834\\u57fa\\u91d1\",\"displayNameLocalWithKwd\":0,\"fundYesId\":null,\"forSaleUrl\":\"\"},{\"priceDate\":1521734400,\"inceptionDate\":662745600,\"cnyesId\":\"B16,009\",\"forSale\":1,\"investmentArea\":\"\\u6b50\\u6d32(\\u542b\\u6b50\\u5143\\u5340)\",\"lastUpdate\":1521734400,\"change\":-0.37,\"return1Day\":-1.48953,\"nav\":24.47,\"fundYesId\":\"B16009\",\"return1Month\":-2.74245,\"categoryAbbr\":\"\\u6b50\\u6d32\\u80a1\\u7968\",\"prevPrice\":24.84,\"classCurrencyLocal\":\"\\u6b50\\u5143\",\"displayNameLocal\":\"\\u666f\\u9806\\u5168\\u6b50\\u6d32\\u4f01\\u696d\\u57fa\\u91d1A\\u80a1 \\u6b50\\u5143\",\"displayNameLocalWithKwd\":0,\"forSaleUrl\":\"https:\\/\\/www.fundsyes.com\\/Redr\\/Redr.aspx?FundID=B16009\"},{\"priceDate\":1521734400,\"inceptionDate\":662659200,\"cnyesId\":\"B16,013\",\"forSale\":1,\"investmentArea\":\"\\u6b50\\u6d32(\\u542b\\u6b50\\u5143\\u5340)\",\"lastUpdate\":1521734400,\"change\":-0.39,\"return1Day\":-1.92403,\"nav\":19.88,\"fundYesId\":\"B16013\",\"return1Month\":-3.72881,\"categoryAbbr\":\"\\u6b50\\u6d32\\u80a1\\u7968\",\"prevPrice\":20.27,\"classCurrencyLocal\":\"\\u6b50\\u5143\",\"displayNameLocal\":\"\\u666f\\u9806\\u6cdb\\u6b50\\u6d32\\u57fa\\u91d1A\\u80a1 \\u6b50\\u5143\",\"displayNameLocalWithKwd\":0,\"forSaleUrl\":\"https:\\/\\/www.fundsyes.com\\/Redr\\/Redr.aspx?FundID=B16013\"},{\"priceDate\":1521734400,\"inceptionDate\":934128000,\"cnyesId\":\"B16,057\",\"forSale\":0,\"investmentArea\":\"\\u6b50\\u6d32(\\u542b\\u6b50\\u5143\\u5340)\",\"lastUpdate\":1521734400,\"change\":-0.43,\"return1Day\":-1.91622,\"nav\":22.01,\"return1Month\":-3.71829,\"categoryAbbr\":\"\\u6b50\\u6d32\\u80a1\\u7968\",\"prevPrice\":22.44,\"classCurrencyLocal\":\"\\u6b50\\u5143\",\"displayNameLocal\":\"\\u666f\\u9806\\u6cdb\\u6b50\\u6d32\\u57fa\\u91d1C\\u80a1 \\u6b50\\u5143\",\"displayNameLocalWithKwd\":0,\"fundYesId\":null,\"forSaleUrl\":\"\"},{\"priceDate\":1521734400,\"inceptionDate\":781113600,\"cnyesId\":\"B16,019\",\"forSale\":1,\"investmentArea\":\"\\u5168\\u7403\\u5e02\\u5834\",\"lastUpdate\":1521734400,\"change\":-0.79,\"return1Day\":-1.40695,\"nav\":55.36,\"fundYesId\":\"B16019\",\"return1Month\":-2.36332,\"categoryAbbr\":\"\\u7522\\u696d\\u80a1\\u7968 - \\u6d88\\u8cbb\\u54c1\\u53ca\\u670d\\u52d9\",\"prevPrice\":56.15,\"classCurrencyLocal\":\"\\u7f8e\\u5143\",\"displayNameLocal\":\"\\u666f\\u9806\\u6d88\\u9592\\u57fa\\u91d1A\\u80a1 \\u7f8e\\u5143\",\"displayNameLocalWithKwd\":0,\"forSaleUrl\":\"https:\\/\\/www.fundsyes.com\\/Redr\\/Redr.aspx?FundID=B16019\"},{\"priceDate\":1521734400,\"inceptionDate\":711129600,\"cnyesId\":\"B16,137\",\"forSale\":1,\"investmentArea\":\"\\u4e2d\\u570b\\/\\u5927\\u4e2d\\u83ef\",\"lastUpdate\":1521734400,\"change\":-1.56,\"return1Day\":-2.3118,\"nav\":65.92,\"fundYesId\":\"B16137\",\"return1Month\":-3.45636,\"categoryAbbr\":\"\\u5927\\u4e2d\\u83ef\\u80a1\\u7968\",\"prevPrice\":67.48,\"classCurrencyLocal\":\"\\u7f8e\\u5143\",\"displayNameLocal\":\"\\u666f\\u9806\\u5927\\u4e2d\\u83ef\\u57fa\\u91d1A\\u80a1 \\u7f8e\\u5143\",\"displayNameLocalWithKwd\":0,\"forSaleUrl\":\"https:\\/\\/www.fundsyes.com\\/Redr\\/Redr.aspx?FundID=B16137\"},{\"priceDate\":1521734400,\"inceptionDate\":662745600,\"cnyesId\":\"B16,016\",\"forSale\":0,\"investmentArea\":\"\\u7f8e\\u570b\",\"lastUpdate\":1521734400,\"change\":0,\"return1Day\":0,\"nav\":88.11,\"fundYesId\":\"B16016\",\"return1Month\":0.09088,\"categoryAbbr\":\"\\u8ca8\\u5e63\\u5e02\\u5834 - \\u7f8e\\u5143\",\"prevPrice\":88.11,\"classCurrencyLocal\":\"\\u7f8e\\u5143\",\"displayNameLocal\":\"\\u666f\\u9806\\u7f8e\\u5143\\u5132\\u5099\\u57fa\\u91d1A\\u80a1 \\u7f8e\\u5143\",\"displayNameLocalWithKwd\":0,\"forSaleUrl\":\"\"},{\"priceDate\":1521734400,\"inceptionDate\":934128000,\"cnyesId\":\"B16,075\",\"forSale\":0,\"investmentArea\":\"\\u5168\\u7403\\u5e02\\u5834\",\"lastUpdate\":1521734400,\"change\":-0.86,\"return1Day\":-1.39906,\"nav\":60.61,\"return1Month\":-2.32071,\"categoryAbbr\":\"\\u7522\\u696d\\u80a1\\u7968 - \\u6d88\\u8cbb\\u54c1\\u53ca\\u670d\\u52d9\",\"prevPrice\":61.47,\"classCurrencyLocal\":\"\\u7f8e\\u5143\",\"displayNameLocal\":\"\\u666f\\u9806\\u6d88\\u9592\\u57fa\\u91d1C\\u80a1 \\u7f8e\\u5143\",\"displayNameLocalWithKwd\":0,\"fundYesId\":null,\"forSaleUrl\":\"\"},{\"priceDate\":1521734400,\"inceptionDate\":908467200,\"cnyesId\":\"B23,258\",\"forSale\":0,\"investmentArea\":\"\\u4e9e\\u6d32\\u5730\\u5340\",\"lastUpdate\":1521734400,\"change\":0.0017,\"return1Day\":0.03071,\"nav\":5.5371,\"return1Month\":-0.00542,\"categoryAbbr\":\"\\u4e9e\\u6d32\\u50b5\\u5238\",\"prevPrice\":5.5354,\"classCurrencyLocal\":\"\\u7f8e\\u5143\",\"displayNameLocal\":\"\\u65bd\\u7f85\\u5fb7\\u74b0\\u7403\\u57fa\\u91d1\\u7cfb\\u5217 - \\u4e9e\\u6d32\\u50b5\\u5238 A \\u985e\\u80a1\\u4efd - \\u914d\\u606f\\u55ae\\u4f4d(\\u7f8e\\u5143)\",\"displayNameLocalWithKwd\":0,\"fundYesId\":null,\"forSaleUrl\":\"\"},{\"priceDate\":1521734400,\"inceptionDate\":934128000,\"cnyesId\":\"B16,060\",\"forSale\":0,\"investmentArea\":\"\\u7f8e\\u570b\",\"lastUpdate\":1521734400,\"change\":0.01,\"return1Day\":0.01092,\"nav\":91.56,\"return1Month\":0.12028,\"categoryAbbr\":\"\\u8ca8\\u5e63\\u5e02\\u5834 - \\u7f8e\\u5143\",\"prevPrice\":91.55,\"classCurrencyLocal\":\"\\u7f8e\\u5143\",\"displayNameLocal\":\"\\u666f\\u9806\\u7f8e\\u5143\\u5132\\u5099\\u57fa\\u91d1C\\u80a1 \\u7f8e\\u5143\",\"displayNameLocalWithKwd\":0,\"fundYesId\":null,\"forSaleUrl\":\"\"},{\"priceDate\":1521734400,\"inceptionDate\":948038400,\"cnyesId\":\"B23,286\",\"forSale\":0,\"investmentArea\":\"\\u4e9e\\u6d32\\u5730\\u5340\",\"lastUpdate\":1521734400,\"change\":0.0049,\"return1Day\":0.03266,\"nav\":15.0102,\"return1Month\":0.03066,\"categoryAbbr\":\"\\u4e9e\\u6d32\\u50b5\\u5238\",\"prevPrice\":15.0053,\"classCurrencyLocal\":\"\\u7f8e\\u5143\",\"displayNameLocal\":\"\\u65bd\\u7f85\\u5fb7\\u74b0\\u7403\\u57fa\\u91d1\\u7cfb\\u5217 - \\u4e9e\\u6d32\\u50b5\\u5238 C \\u985e\\u80a1\\u4efd - \\u7d2f\\u7a4d\\u55ae\\u4f4d(\\u7f8e\\u5143)\",\"displayNameLocalWithKwd\":0,\"fundYesId\":null,\"forSaleUrl\":\"\"},{\"priceDate\":1521734400,\"inceptionDate\":948038400,\"cnyesId\":\"B23,204\",\"forSale\":0,\"investmentArea\":\"\\u4e9e\\u6d32\\u5730\\u5340\",\"lastUpdate\":1521734400,\"change\":0.0042,\"return1Day\":0.03171,\"nav\":13.2481,\"return1Month\":-0.00528,\"categoryAbbr\":\"\\u4e9e\\u6d32\\u50b5\\u5238\",\"prevPrice\":13.2439,\"classCurrencyLocal\":\"\\u7f8e\\u5143\",\"displayNameLocal\":\"\\u65bd\\u7f85\\u5fb7\\u74b0\\u7403\\u57fa\\u91d1\\u7cfb\\u5217 - \\u4e9e\\u6d32\\u50b5\\u5238 A \\u985e\\u80a1\\u4efd - \\u7d2f\\u7a4d\\u55ae\\u4f4d(\\u7f8e\\u5143)\",\"displayNameLocalWithKwd\":0,\"fundYesId\":null,\"forSaleUrl\":\"\"},{\"priceDate\":1521734400,\"inceptionDate\":908812800,\"cnyesId\":\"B23,285\",\"forSale\":0,\"investmentArea\":\"\\u4e9e\\u6d32\\u5730\\u5340\",\"lastUpdate\":1521734400,\"change\":0.0024,\"return1Day\":0.0326,\"nav\":7.3641,\"return1Month\":0.02988,\"categoryAbbr\":\"\\u4e9e\\u6d32\\u50b5\\u5238\",\"prevPrice\":7.3617,\"classCurrencyLocal\":\"\\u7f8e\\u5143\",\"displayNameLocal\":\"\\u65bd\\u7f85\\u5fb7\\u74b0\\u7403\\u57fa\\u91d1\\u7cfb\\u5217 - \\u4e9e\\u6d32\\u50b5\\u5238 C \\u985e\\u80a1\\u4efd - \\u914d\\u606f\\u55ae\\u4f4d(\\u7f8e\\u5143)\",\"displayNameLocalWithKwd\":0,\"fundYesId\":null,\"forSaleUrl\":\"\"},{\"priceDate\":1521734400,\"inceptionDate\":934128000,\"cnyesId\":\"B16,148\",\"forSale\":1,\"investmentArea\":\"\\u4e9e\\u6d32\\u5730\\u5340\",\"lastUpdate\":1521734400,\"change\":-3.66,\"return1Day\":-2.4673,\"nav\":144.68,\"fundYesId\":\"B16148\",\"return1Month\":-2.5527,\"categoryAbbr\":\"\\u4e9e\\u6d32\\u80a1\\u7968(\\u4e0d\\u542b\\u65e5\\u672c)\",\"prevPrice\":148.34,\"classCurrencyLocal\":\"\\u7f8e\\u5143\",\"displayNameLocal\":\"\\u666f\\u9806\\u4e9e\\u6d32\\u6a5f\\u9047\\u80a1\\u7968\\u57fa\\u91d1A\\u80a1 \\u7f8e\\u5143\",\"displayNameLocalWithKwd\":0,\"forSaleUrl\":\"https:\\/\\/www.fundsyes.com\\/Redr\\/Redr.aspx?FundID=B16148\"},{\"priceDate\":1521734400,\"inceptionDate\":763142400,\"cnyesId\":\"B23,263\",\"forSale\":0,\"investmentArea\":\"\\u5168\\u7403\\u65b0\\u8208\\u5e02\\u5834\",\"lastUpdate\":1521734400,\"change\":-0.2731,\"return1Day\":-1.8402,\"nav\":14.5677,\"return1Month\":-2.95899,\"categoryAbbr\":\"\\u65b0\\u8208\\u5e02\\u5834\\u80a1\\u7968\",\"prevPrice\":14.8408,\"classCurrencyLocal\":\"\\u7f8e\\u5143\",\"displayNameLocal\":\"\\u65bd\\u7f85\\u5fb7\\u74b0\\u7403\\u57fa\\u91d1\\u7cfb\\u5217 - \\u65b0\\u8208\\u5e02\\u5834 A \\u985e\\u80a1\\u4efd - \\u914d\\u606f\\u55ae\\u4f4d(\\u7f8e\\u5143)\",\"displayNameLocalWithKwd\":0,\"fundYesId\":null,\"forSaleUrl\":\"\"},{\"priceDate\":1521734400,\"inceptionDate\":857318400,\"cnyesId\":\"B16,150\",\"forSale\":0,\"investmentArea\":\"\\u4e9e\\u6d32\\u5730\\u5340\",\"lastUpdate\":1521734400,\"change\":-4.05,\"return1Day\":-2.46485,\"nav\":160.26,\"return1Month\":-2.50639,\"categoryAbbr\":\"\\u4e9e\\u6d32\\u80a1\\u7968(\\u4e0d\\u542b\\u65e5\\u672c)\",\"prevPrice\":164.31,\"classCurrencyLocal\":\"\\u7f8e\\u5143\",\"displayNameLocal\":\"\\u666f\\u9806\\u4e9e\\u6d32\\u6a5f\\u9047\\u80a1\\u7968\\u57fa\\u91d1C\\u80a1 \\u7f8e\\u5143\",\"displayNameLocalWithKwd\":0,\"fundYesId\":null,\"forSaleUrl\":\"\"},{\"priceDate\":1521734400,\"inceptionDate\":948038400,\"cnyesId\":\"B23,203\",\"forSale\":0,\"investmentArea\":\"\\u65e5\\u672c\",\"lastUpdate\":1521734400,\"change\":-22.9998,\"return1Day\":-1.93672,\"nav\":1164.5672,\"return1Month\":-4.01905,\"categoryAbbr\":\"\\u65e5\\u672c\\u80a1\\u7968\",\"prevPrice\":1187.567,\"classCurrencyLocal\":\"\\u65e5\\u5713\",\"displayNameLocal\":\"\\u65bd\\u7f85\\u5fb7\\u74b0\\u7403\\u57fa\\u91d1\\u7cfb\\u5217 - \\u65e5\\u672c\\u80a1\\u7968 A \\u985e\\u80a1\\u4efd - \\u7d2f\\u7a4d\\u55ae\\u4f4d(\\u65e5\\u5e63)\",\"displayNameLocalWithKwd\":0,\"fundYesId\":null,\"forSaleUrl\":\"\"},{\"priceDate\":1521734400,\"inceptionDate\":948038400,\"cnyesId\":\"B23,281\",\"forSale\":0,\"investmentArea\":\"\\u65e5\\u672c\",\"lastUpdate\":1521734400,\"change\":-26.951,\"return1Day\":-1.9352,\"nav\":1365.7231,\"return1Month\":-3.97841,\"categoryAbbr\":\"\\u65e5\\u672c\\u80a1\\u7968\",\"prevPrice\":1392.6741,\"classCurrencyLocal\":\"\\u65e5\\u5713\",\"displayNameLocal\":\"\\u65bd\\u7f85\\u5fb7\\u74b0\\u7403\\u57fa\\u91d1\\u7cfb\\u5217 - \\u65e5\\u672c\\u80a1\\u7968 C \\u985e\\u80a1\\u4efd - \\u7d2f\\u7a4d\\u55ae\\u4f4d(\\u65e5\\u5e63)\",\"displayNameLocalWithKwd\":0,\"fundYesId\":null,\"forSaleUrl\":\"\"},{\"priceDate\":1521734400,\"inceptionDate\":948038400,\"cnyesId\":\"B23,210\",\"forSale\":0,\"investmentArea\":\"\\u5168\\u7403\\u65b0\\u8208\\u5e02\\u5834\",\"lastUpdate\":1521734400,\"change\":-0.3177,\"return1Day\":-1.83993,\"nav\":16.9493,\"return1Month\":-2.95887,\"categoryAbbr\":\"\\u65b0\\u8208\\u5e02\\u5834\\u80a1\\u7968\",\"prevPrice\":17.267,\"classCurrencyLocal\":\"\\u7f8e\\u5143\",\"displayNameLocal\":\"\\u65bd\\u7f85\\u5fb7\\u74b0\\u7403\\u57fa\\u91d1\\u7cfb\\u5217 - \\u65b0\\u8208\\u5e02\\u5834 A \\u985e\\u80a1\\u4efd - \\u7d2f\\u7a4d\\u55ae\\u4f4d(\\u7f8e\\u5143)\",\"displayNameLocalWithKwd\":0,\"fundYesId\":null,\"forSaleUrl\":\"\"},{\"priceDate\":1521734400,\"inceptionDate\":948038400,\"cnyesId\":\"B23,294\",\"forSale\":0,\"investmentArea\":\"\\u5168\\u7403\\u65b0\\u8208\\u5e02\\u5834\",\"lastUpdate\":1521734400,\"change\":-0.3619,\"return1Day\":-1.83789,\"nav\":19.3292,\"return1Month\":-2.89957,\"categoryAbbr\":\"\\u65b0\\u8208\\u5e02\\u5834\\u80a1\\u7968\",\"prevPrice\":19.6911,\"classCurrencyLocal\":\"\\u7f8e\\u5143\",\"displayNameLocal\":\"\\u65bd\\u7f85\\u5fb7\\u74b0\\u7403\\u57fa\\u91d1\\u7cfb\\u5217 - \\u65b0\\u8208\\u5e02\\u5834 C \\u985e\\u80a1\\u4efd - \\u7d2f\\u7a4d\\u55ae\\u4f4d(\\u7f8e\\u5143)\",\"displayNameLocalWithKwd\":0,\"fundYesId\":null,\"forSaleUrl\":\"\"}]},\"message\":\"\\u6210\\u529f\",\"statusCode\":200}</p></body></html>"
      ]
     },
     "execution_count": 15,
     "metadata": {},
     "output_type": "execute_result"
    }
   ],
   "source": [
    "soup"
   ]
  },
  {
   "cell_type": "code",
   "execution_count": null,
   "metadata": {
    "collapsed": true
   },
   "outputs": [],
   "source": []
  }
 ],
 "metadata": {
  "kernelspec": {
   "display_name": "Python 3",
   "language": "python",
   "name": "python3"
  },
  "language_info": {
   "codemirror_mode": {
    "name": "ipython",
    "version": 3
   },
   "file_extension": ".py",
   "mimetype": "text/x-python",
   "name": "python",
   "nbconvert_exporter": "python",
   "pygments_lexer": "ipython3",
   "version": "3.6.3"
  }
 },
 "nbformat": 4,
 "nbformat_minor": 2
}
