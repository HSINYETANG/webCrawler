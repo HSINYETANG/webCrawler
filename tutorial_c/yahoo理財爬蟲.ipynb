{
 "cells": [
  {
   "cell_type": "code",
   "execution_count": 2,
   "metadata": {
    "collapsed": true
   },
   "outputs": [],
   "source": [
    "from urllib.request import urlopen\n",
    "from bs4 import BeautifulSoup\n",
    "import requests"
   ]
  },
  {
   "cell_type": "markdown",
   "metadata": {},
   "source": [
    "# urlopen"
   ]
  },
  {
   "cell_type": "code",
   "execution_count": 16,
   "metadata": {
    "collapsed": true
   },
   "outputs": [],
   "source": [
    "#html = urlopen(\"https://tw.money.yahoo.com/fund/history/F00000WGHT:FO\")\n",
    "html = urlopen(\"https://tw.money.yahoo.com/fund/history/F0GBR05XF2:FO\")\n",
    "bsObj = BeautifulSoup(html.read(), \"lxml\")"
   ]
  },
  {
   "cell_type": "code",
   "execution_count": 17,
   "metadata": {
    "collapsed": true
   },
   "outputs": [],
   "source": [
    "data = bsObj.findAll(\"\", {\"class\" : {\"small-td-first short-date\", \"small-td-rest number zero\"}})"
   ]
  },
  {
   "cell_type": "code",
   "execution_count": 18,
   "metadata": {},
   "outputs": [
    {
     "name": "stdout",
     "output_type": "stream",
     "text": [
      "12/28\n",
      "206.37\n",
      "12/27\n",
      "205.90\n",
      "12/22\n",
      "205.53\n",
      "12/21\n",
      "206.06\n",
      "12/20\n",
      "203.06\n",
      "12/19\n",
      "203.45\n",
      "12/18\n",
      "202.47\n",
      "12/15\n",
      "200.92\n",
      "12/14\n",
      "197.11\n",
      "12/13\n",
      "196.70\n",
      "12/12\n",
      "197.17\n",
      "12/11\n",
      "199.81\n",
      "12/08\n",
      "198.24\n",
      "12/07\n",
      "195.46\n",
      "12/06\n",
      "192.22\n",
      "12/05\n",
      "195.28\n",
      "12/04\n",
      "195.47\n",
      "11/30\n",
      "197.73\n",
      "11/29\n",
      "198.54\n",
      "11/28\n",
      "199.09\n",
      "11/27\n",
      "199.30\n",
      "11/24\n",
      "197.90\n",
      "11/22\n",
      "196.58\n",
      "11/21\n",
      "195.52\n",
      "11/20\n",
      "194.80\n",
      "11/17\n",
      "194.12\n",
      "11/16\n",
      "192.23\n",
      "11/15\n",
      "189.32\n",
      "11/14\n",
      "191.67\n",
      "11/13\n",
      "191.75\n"
     ]
    }
   ],
   "source": [
    "for i in range(0, len(data)):\n",
    "    print(data[i].string)"
   ]
  },
  {
   "cell_type": "markdown",
   "metadata": {},
   "source": [
    "# request"
   ]
  },
  {
   "cell_type": "code",
   "execution_count": 29,
   "metadata": {
    "collapsed": true
   },
   "outputs": [],
   "source": [
    "html = requests.get(\"https://tw.money.yahoo.com/fund/history/F00000WGHT:FO\")\n",
    "bsObj = BeautifulSoup(html.text, \"lxml\")"
   ]
  },
  {
   "cell_type": "code",
   "execution_count": 30,
   "metadata": {
    "collapsed": true
   },
   "outputs": [],
   "source": [
    "data = bsObj.findAll(\"\", {\"class\" : {\"small-td-first short-date\", \"small-td-rest number zero\"}})"
   ]
  }
 ],
 "metadata": {
  "kernelspec": {
   "display_name": "Python 3",
   "language": "python",
   "name": "python3"
  },
  "language_info": {
   "codemirror_mode": {
    "name": "ipython",
    "version": 3
   },
   "file_extension": ".py",
   "mimetype": "text/x-python",
   "name": "python",
   "nbconvert_exporter": "python",
   "pygments_lexer": "ipython3",
   "version": "3.6.1"
  }
 },
 "nbformat": 4,
 "nbformat_minor": 2
}
